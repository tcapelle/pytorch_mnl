{
 "cells": [
  {
   "cell_type": "markdown",
   "id": "df2988fd-a8c9-45c8-838c-dd4ceab3b167",
   "metadata": {},
   "source": [
    "# SwissMetro\n",
    "> Reproducing this example from [biogeme](https://github.com/michelbierlaire/biogeme/blob/working/examples/notebooks/My%20first%20model.ipynb)"
   ]
  },
  {
   "cell_type": "code",
   "execution_count": null,
   "id": "a254475d-3374-4f47-9902-cc6c4a30b1c3",
   "metadata": {},
   "outputs": [],
   "source": [
    "from pathlib import Path\n",
    "import pandas as pd\n",
    "from fastcore.all import *\n",
    "from pytorch_mnl.core import *"
   ]
  },
  {
   "cell_type": "code",
   "execution_count": null,
   "id": "32b463f8-1e67-4b17-a04d-c70ae2552755",
   "metadata": {},
   "outputs": [],
   "source": [
    "PATH = Path('data')"
   ]
  },
  {
   "cell_type": "code",
   "execution_count": null,
   "id": "7bfa3db5-7ced-40e9-ad17-82cc3d315eb0",
   "metadata": {},
   "outputs": [
    {
     "data": {
      "text/html": [
       "<div>\n",
       "<style scoped>\n",
       "    .dataframe tbody tr th:only-of-type {\n",
       "        vertical-align: middle;\n",
       "    }\n",
       "\n",
       "    .dataframe tbody tr th {\n",
       "        vertical-align: top;\n",
       "    }\n",
       "\n",
       "    .dataframe thead th {\n",
       "        text-align: right;\n",
       "    }\n",
       "</style>\n",
       "<table border=\"1\" class=\"dataframe\">\n",
       "  <thead>\n",
       "    <tr style=\"text-align: right;\">\n",
       "      <th></th>\n",
       "      <th>GROUP</th>\n",
       "      <th>SURVEY</th>\n",
       "      <th>SP</th>\n",
       "      <th>ID</th>\n",
       "      <th>PURPOSE</th>\n",
       "      <th>FIRST</th>\n",
       "      <th>TICKET</th>\n",
       "      <th>WHO</th>\n",
       "      <th>LUGGAGE</th>\n",
       "      <th>AGE</th>\n",
       "      <th>...</th>\n",
       "      <th>TRAIN_TT</th>\n",
       "      <th>TRAIN_CO</th>\n",
       "      <th>TRAIN_HE</th>\n",
       "      <th>SM_TT</th>\n",
       "      <th>SM_CO</th>\n",
       "      <th>SM_HE</th>\n",
       "      <th>SM_SEATS</th>\n",
       "      <th>CAR_TT</th>\n",
       "      <th>CAR_CO</th>\n",
       "      <th>CHOICE</th>\n",
       "    </tr>\n",
       "  </thead>\n",
       "  <tbody>\n",
       "    <tr>\n",
       "      <th>0</th>\n",
       "      <td>2</td>\n",
       "      <td>0</td>\n",
       "      <td>1</td>\n",
       "      <td>1</td>\n",
       "      <td>1</td>\n",
       "      <td>0</td>\n",
       "      <td>1</td>\n",
       "      <td>1</td>\n",
       "      <td>0</td>\n",
       "      <td>3</td>\n",
       "      <td>...</td>\n",
       "      <td>112</td>\n",
       "      <td>48</td>\n",
       "      <td>120</td>\n",
       "      <td>63</td>\n",
       "      <td>52</td>\n",
       "      <td>20</td>\n",
       "      <td>0</td>\n",
       "      <td>117</td>\n",
       "      <td>65</td>\n",
       "      <td>2</td>\n",
       "    </tr>\n",
       "    <tr>\n",
       "      <th>1</th>\n",
       "      <td>2</td>\n",
       "      <td>0</td>\n",
       "      <td>1</td>\n",
       "      <td>1</td>\n",
       "      <td>1</td>\n",
       "      <td>0</td>\n",
       "      <td>1</td>\n",
       "      <td>1</td>\n",
       "      <td>0</td>\n",
       "      <td>3</td>\n",
       "      <td>...</td>\n",
       "      <td>103</td>\n",
       "      <td>48</td>\n",
       "      <td>30</td>\n",
       "      <td>60</td>\n",
       "      <td>49</td>\n",
       "      <td>10</td>\n",
       "      <td>0</td>\n",
       "      <td>117</td>\n",
       "      <td>84</td>\n",
       "      <td>2</td>\n",
       "    </tr>\n",
       "    <tr>\n",
       "      <th>2</th>\n",
       "      <td>2</td>\n",
       "      <td>0</td>\n",
       "      <td>1</td>\n",
       "      <td>1</td>\n",
       "      <td>1</td>\n",
       "      <td>0</td>\n",
       "      <td>1</td>\n",
       "      <td>1</td>\n",
       "      <td>0</td>\n",
       "      <td>3</td>\n",
       "      <td>...</td>\n",
       "      <td>130</td>\n",
       "      <td>48</td>\n",
       "      <td>60</td>\n",
       "      <td>67</td>\n",
       "      <td>58</td>\n",
       "      <td>30</td>\n",
       "      <td>0</td>\n",
       "      <td>117</td>\n",
       "      <td>52</td>\n",
       "      <td>2</td>\n",
       "    </tr>\n",
       "    <tr>\n",
       "      <th>3</th>\n",
       "      <td>2</td>\n",
       "      <td>0</td>\n",
       "      <td>1</td>\n",
       "      <td>1</td>\n",
       "      <td>1</td>\n",
       "      <td>0</td>\n",
       "      <td>1</td>\n",
       "      <td>1</td>\n",
       "      <td>0</td>\n",
       "      <td>3</td>\n",
       "      <td>...</td>\n",
       "      <td>103</td>\n",
       "      <td>40</td>\n",
       "      <td>30</td>\n",
       "      <td>63</td>\n",
       "      <td>52</td>\n",
       "      <td>20</td>\n",
       "      <td>0</td>\n",
       "      <td>72</td>\n",
       "      <td>52</td>\n",
       "      <td>2</td>\n",
       "    </tr>\n",
       "    <tr>\n",
       "      <th>4</th>\n",
       "      <td>2</td>\n",
       "      <td>0</td>\n",
       "      <td>1</td>\n",
       "      <td>1</td>\n",
       "      <td>1</td>\n",
       "      <td>0</td>\n",
       "      <td>1</td>\n",
       "      <td>1</td>\n",
       "      <td>0</td>\n",
       "      <td>3</td>\n",
       "      <td>...</td>\n",
       "      <td>130</td>\n",
       "      <td>36</td>\n",
       "      <td>60</td>\n",
       "      <td>63</td>\n",
       "      <td>42</td>\n",
       "      <td>20</td>\n",
       "      <td>0</td>\n",
       "      <td>90</td>\n",
       "      <td>84</td>\n",
       "      <td>2</td>\n",
       "    </tr>\n",
       "  </tbody>\n",
       "</table>\n",
       "<p>5 rows × 28 columns</p>\n",
       "</div>"
      ],
      "text/plain": [
       "   GROUP  SURVEY  SP  ID  PURPOSE  FIRST  TICKET  WHO  LUGGAGE  AGE  ...  \\\n",
       "0      2       0   1   1        1      0       1    1        0    3  ...   \n",
       "1      2       0   1   1        1      0       1    1        0    3  ...   \n",
       "2      2       0   1   1        1      0       1    1        0    3  ...   \n",
       "3      2       0   1   1        1      0       1    1        0    3  ...   \n",
       "4      2       0   1   1        1      0       1    1        0    3  ...   \n",
       "\n",
       "   TRAIN_TT  TRAIN_CO  TRAIN_HE  SM_TT  SM_CO  SM_HE  SM_SEATS  CAR_TT  \\\n",
       "0       112        48       120     63     52     20         0     117   \n",
       "1       103        48        30     60     49     10         0     117   \n",
       "2       130        48        60     67     58     30         0     117   \n",
       "3       103        40        30     63     52     20         0      72   \n",
       "4       130        36        60     63     42     20         0      90   \n",
       "\n",
       "   CAR_CO  CHOICE  \n",
       "0      65       2  \n",
       "1      84       2  \n",
       "2      52       2  \n",
       "3      52       2  \n",
       "4      84       2  \n",
       "\n",
       "[5 rows x 28 columns]"
      ]
     },
     "execution_count": null,
     "metadata": {},
     "output_type": "execute_result"
    }
   ],
   "source": [
    "df = pd.read_csv(PATH/'swissmetro.dat', '\\t')\n",
    "df.head()"
   ]
  },
  {
   "cell_type": "markdown",
   "id": "9ffa33e2-3831-4231-8ee6-1441621502e1",
   "metadata": {},
   "source": [
    "Remove some observations\n"
   ]
  },
  {
   "cell_type": "code",
   "execution_count": null,
   "id": "28072c0b-ee3f-4bf7-9367-d83a38e90b32",
   "metadata": {},
   "outputs": [],
   "source": [
    "exclude = df.query('(PURPOSE != 1 and PURPOSE != 3) or CHOICE == 0')"
   ]
  },
  {
   "cell_type": "code",
   "execution_count": null,
   "id": "f29f1a7a-1fa0-444c-808c-836424bfdb1a",
   "metadata": {},
   "outputs": [
    {
     "data": {
      "text/plain": [
       "6768"
      ]
     },
     "execution_count": null,
     "metadata": {},
     "output_type": "execute_result"
    }
   ],
   "source": [
    "df = df.drop(exclude.index)\n",
    "len(df)"
   ]
  },
  {
   "cell_type": "markdown",
   "id": "4ce6db7f-c343-4e11-89f1-9cebbee77d2c",
   "metadata": {},
   "source": [
    "Model Params"
   ]
  },
  {
   "cell_type": "code",
   "execution_count": null,
   "id": "48186611-2890-48c4-9b22-0bc150e9e811",
   "metadata": {},
   "outputs": [],
   "source": [
    "# ASC_CAR = Beta('ASC_CAR', 0, None, None, 0)\n",
    "# ASC_TRAIN = Beta('ASC_TRAIN', 0, None, None, 0)\n",
    "# ASC_SM = Beta('ASC_SM', 0, None, None, 1)\n",
    "# B_TIME = Beta('B_TIME', 0, None, None, 0)\n",
    "# B_COST = Beta('B_COST', 0, None, None, 0)"
   ]
  },
  {
   "cell_type": "markdown",
   "id": "3912107e-f6d9-45cd-af09-0dd2386b3dd6",
   "metadata": {},
   "source": [
    "Definition of new variables"
   ]
  },
  {
   "cell_type": "code",
   "execution_count": null,
   "id": "6936247c-bb30-4741-b8cd-5418dd6b4f45",
   "metadata": {},
   "outputs": [],
   "source": [
    "df = df.assign(SM_COST = df['SM_CO'] * (df['GA'] == 0),\n",
    "               TRAIN_COST = df['TRAIN_CO'] * (df['GA'] == 0))\n",
    "\n",
    "df = df.assign(CAR_AV_SP = df['CAR_AV'] * (df['SP'] != 0),\n",
    "               TRAIN_AV_SP = df['TRAIN_AV'] * (df['SP'] != 0),\n",
    "               TRAIN_TT_SCALED = df['TRAIN_TT'] / 100,\n",
    "               TRAIN_COST_SCALED = df['TRAIN_COST'] / 100,\n",
    "               SM_TT_SCALED = df['SM_TT'] / 100,\n",
    "               SM_COST_SCALED = df['SM_COST'] / 100,\n",
    "               CAR_TT_SCALED = df['CAR_TT'] / 100,\n",
    "               CAR_CO_SCALED = df['CAR_CO'] / 100)"
   ]
  },
  {
   "cell_type": "markdown",
   "id": "6cd185b2-6d03-4609-94b1-7cad17669bc4",
   "metadata": {},
   "source": [
    "## Utility Func\n",
    "> you have to define your model as a nn.Module"
   ]
  },
  {
   "cell_type": "code",
   "execution_count": null,
   "id": "6c20f6d4-5495-40c0-bc1c-9a4b8c5164f7",
   "metadata": {},
   "outputs": [],
   "source": [
    "# V1 = ASC_TRAIN + \\\n",
    "#      B_TIME * TRAIN_TT_SCALED + \\\n",
    "#      B_COST * TRAIN_COST_SCALED\n",
    "# V2 = ASC_SM + \\\n",
    "#      B_TIME * SM_TT_SCALED + \\\n",
    "#      B_COST * SM_COST_SCALED\n",
    "# V3 = ASC_CAR + \\\n",
    "#      B_TIME * CAR_TT_SCALED + \\\n",
    "#      B_COST * CAR_CO_SCALED"
   ]
  },
  {
   "cell_type": "markdown",
   "id": "fa7e4ef6-70d1-4134-b136-bc66ce0ef5eb",
   "metadata": {},
   "source": [
    "$$V = a + b\\cdot x $$"
   ]
  },
  {
   "cell_type": "code",
   "execution_count": null,
   "id": "0c16906c-025e-4e11-8e93-105f7c57949a",
   "metadata": {},
   "outputs": [],
   "source": [
    "import torch\n",
    "import torch.nn as nn\n",
    "\n",
    "class LinearModel(nn.Module):\n",
    "    def __init__(self, n_params=2, n_choices=3,  bias=True):\n",
    "        super().__init__()\n",
    "        self.available = Availability(n_choices, inf=100)\n",
    "        \n",
    "        self.b = nn.Parameter(torch.zeros(n_params,1))\n",
    "        if bias:\n",
    "            self.a = nn.Parameter(torch.zeros(n_choices-1, 1))\n",
    "        else:\n",
    "            self.a = torch.zeros(n_choices-1, 1)  #non trainable\n",
    "        \n",
    "    def forward(self, x, av):\n",
    "        a = torch.cat([torch.zeros(1,1, device=x.device), self.a])\n",
    "        logits = (a + x @ self.b).squeeze()\n",
    "        return self.available(logits, av)\n",
    "    \n",
    "    def get_params(self):\n",
    "        return {'a': torch.cat([torch.zeros(1,1), self.a.cpu()]), 'b': self.b}"
   ]
  },
  {
   "cell_type": "code",
   "execution_count": null,
   "id": "3606eec3-a4b2-4392-9fd1-6c09683c704e",
   "metadata": {},
   "outputs": [],
   "source": [
    "x_cols =  ['SM_TT_SCALED',\n",
    "           'SM_COST_SCALED',\n",
    "           'TRAIN_TT_SCALED',\n",
    "           'TRAIN_COST_SCALED',\n",
    "           'CAR_TT_SCALED',\n",
    "           'CAR_CO_SCALED']\n",
    "\n",
    "av = ['SM_AV',\n",
    "      'TRAIN_AV_SP',\n",
    "      'CAR_AV_SP']\n",
    "\n",
    "n_choices = len(av)\n",
    "n_params = 2 # TT and CO"
   ]
  },
  {
   "cell_type": "code",
   "execution_count": null,
   "id": "82bae5ff-fdc2-459b-970a-eb8efd890550",
   "metadata": {},
   "outputs": [],
   "source": [
    "model = LinearModel(n_params=n_params, n_choices=n_choices, bias=True)"
   ]
  },
  {
   "cell_type": "markdown",
   "id": "76fcc86b-af27-4472-b0bf-a0f56c2b0129",
   "metadata": {},
   "source": [
    "in the original dataframe:\n",
    "- 1 is Train\n",
    "- 2 is SM \n",
    "- 3 is Car"
   ]
  },
  {
   "cell_type": "code",
   "execution_count": null,
   "id": "a6c4f512-26e7-466e-bf7a-52283d0832d7",
   "metadata": {},
   "outputs": [],
   "source": [
    "target_map = {1: 1, 2: 0, 3:2}  #I reorder to put SM_TT as first"
   ]
  },
  {
   "cell_type": "markdown",
   "id": "39204ff9-56da-4ea6-ace4-9beeadcc99c4",
   "metadata": {},
   "source": [
    "# Prepare data"
   ]
  },
  {
   "cell_type": "code",
   "execution_count": null,
   "id": "72109586-8b11-4f44-a180-7e7a4569be13",
   "metadata": {},
   "outputs": [
    {
     "name": "stdout",
     "output_type": "stream",
     "text": [
      "{1: 1, 2: 0, 3: 2}\n"
     ]
    }
   ],
   "source": [
    "X, y, avs = prepare_data(df, x_cols=x_cols, target_col='CHOICE', av_cols=av, target_map=target_map)"
   ]
  },
  {
   "cell_type": "markdown",
   "id": "86db775f-1982-4d81-957e-b9d2154ced64",
   "metadata": {},
   "source": [
    "we have to reshape the inputs to have `n_params` at the end."
   ]
  },
  {
   "cell_type": "code",
   "execution_count": null,
   "id": "4c7fef5e-af9b-4dd3-a7be-b6a6e20b2952",
   "metadata": {},
   "outputs": [],
   "source": [
    "X = X.reshape(-1,n_choices, n_params)"
   ]
  },
  {
   "cell_type": "markdown",
   "id": "ec3a3de1-8141-4035-8d0d-dc3a650c59ee",
   "metadata": {},
   "source": [
    "it is the same thing, but matrix oriented"
   ]
  },
  {
   "cell_type": "code",
   "execution_count": null,
   "id": "c22adf8d-045d-4fe0-99cb-9b3648248d25",
   "metadata": {},
   "outputs": [
    {
     "data": {
      "text/plain": [
       "tensor([[0.6300, 0.5200],\n",
       "        [1.1200, 0.4800],\n",
       "        [1.1700, 0.6500]])"
      ]
     },
     "execution_count": null,
     "metadata": {},
     "output_type": "execute_result"
    }
   ],
   "source": [
    "X[0]"
   ]
  },
  {
   "cell_type": "code",
   "execution_count": null,
   "id": "9c8dc853-1a4b-4bcd-8323-0c76bdbec3d2",
   "metadata": {},
   "outputs": [
    {
     "data": {
      "text/plain": [
       "SM_TT_SCALED         0.63\n",
       "SM_COST_SCALED       0.52\n",
       "TRAIN_TT_SCALED      1.12\n",
       "TRAIN_COST_SCALED    0.48\n",
       "CAR_TT_SCALED        1.17\n",
       "CAR_CO_SCALED        0.65\n",
       "Name: 0, dtype: float64"
      ]
     },
     "execution_count": null,
     "metadata": {},
     "output_type": "execute_result"
    }
   ],
   "source": [
    "df[x_cols].iloc[0]"
   ]
  },
  {
   "cell_type": "markdown",
   "id": "b4de2620-8cc7-413a-9e2b-559802574f73",
   "metadata": {},
   "source": [
    "we can put everything together into a `DataLoaders` object for mini batch training..."
   ]
  },
  {
   "cell_type": "code",
   "execution_count": null,
   "id": "75f6fda7-00d3-4f90-b741-c588f792f121",
   "metadata": {},
   "outputs": [],
   "source": [
    "dls = DataLoaders.from_Xy(X, y, avs, pct=None, batch_size=256, shuffle=True)"
   ]
  },
  {
   "cell_type": "code",
   "execution_count": null,
   "id": "b6a92e16-072a-4bfd-9ff5-5f498d915ae7",
   "metadata": {},
   "outputs": [
    {
     "data": {
      "text/plain": [
       "(torch.Size([256, 3, 2]), torch.Size([256]), torch.Size([256, 3]))"
      ]
     },
     "execution_count": null,
     "metadata": {},
     "output_type": "execute_result"
    }
   ],
   "source": [
    "bx, by, bavs = dls.one_batch()\n",
    "\n",
    "bx.shape, by.shape, bavs.shape"
   ]
  },
  {
   "cell_type": "markdown",
   "id": "a6822770-2b3e-400c-b9a2-93cfa185f65c",
   "metadata": {},
   "source": [
    "## CrossEntropy vs NLL\n",
    "> Just some sanity check..."
   ]
  },
  {
   "cell_type": "code",
   "execution_count": null,
   "id": "a8c32d95-3c02-407b-a56f-b88868bd3831",
   "metadata": {},
   "outputs": [],
   "source": [
    "ce = nn.CrossEntropyLoss(reduction='sum')\n",
    "nll = nn.NLLLoss(reduction='sum')"
   ]
  },
  {
   "cell_type": "code",
   "execution_count": null,
   "id": "86a9512e-a4cc-493e-9de7-a31e7220b267",
   "metadata": {},
   "outputs": [],
   "source": [
    "out = model(bx, bavs)"
   ]
  },
  {
   "cell_type": "code",
   "execution_count": null,
   "id": "26e6572a-c84b-4baa-9938-a850931ec6af",
   "metadata": {},
   "outputs": [
    {
     "data": {
      "text/plain": [
       "(tensor(241.1037, grad_fn=<NllLossBackward>),\n",
       " tensor(241.1037, grad_fn=<NllLossBackward>))"
      ]
     },
     "execution_count": null,
     "metadata": {},
     "output_type": "execute_result"
    }
   ],
   "source": [
    "ce(out, by), nll(torch.log_softmax(out, dim=1), by)"
   ]
  },
  {
   "cell_type": "code",
   "execution_count": null,
   "id": "393d2531-6863-431a-9acd-4f7586ada5ba",
   "metadata": {},
   "outputs": [
    {
     "data": {
      "text/plain": [
       "tensor(241.1037, grad_fn=<SumBackward0>)"
      ]
     },
     "execution_count": null,
     "metadata": {},
     "output_type": "execute_result"
    }
   ],
   "source": [
    "(-out[range_of(out), by] + torch.log(out.exp().sum(1))).sum()"
   ]
  },
  {
   "cell_type": "markdown",
   "id": "3e5e9145-fe91-422d-8596-18a542d4da75",
   "metadata": {},
   "source": [
    "## Train"
   ]
  },
  {
   "cell_type": "code",
   "execution_count": null,
   "id": "67dcaa47-1545-4174-b99d-4ea8517072e6",
   "metadata": {},
   "outputs": [],
   "source": [
    "learn = Learner(dls, model, loss_func=ce)"
   ]
  },
  {
   "cell_type": "code",
   "execution_count": null,
   "id": "348c0336-3857-4ff9-bb9b-535524e18344",
   "metadata": {},
   "outputs": [
    {
     "name": "stdout",
     "output_type": "stream",
     "text": [
      "Starting fit model: \n",
      "Initial val_loss = 6964.661, accuracy = 0.60\n"
     ]
    },
    {
     "data": {
      "text/html": [
       "\n",
       "    <div>\n",
       "        <style>\n",
       "            /* Turns off some styling */\n",
       "            progress {\n",
       "                /* gets rid of default border in Firefox and Opera. */\n",
       "                border: none;\n",
       "                /* Needs to be in here for Safari polyfill so background images work as expected. */\n",
       "                background-size: auto;\n",
       "            }\n",
       "            .progress-bar-interrupted, .progress-bar-interrupted::-webkit-progress-bar {\n",
       "                background: #F44336;\n",
       "            }\n",
       "        </style>\n",
       "      <progress value='61' class='' max='100' style='width:300px; height:20px; vertical-align: middle;'></progress>\n",
       "      61.00% [61/100 00:06<00:04]\n",
       "    </div>\n",
       "    "
      ],
      "text/plain": [
       "<IPython.core.display.HTML object>"
      ]
     },
     "metadata": {},
     "output_type": "display_data"
    },
    {
     "name": "stdout",
     "output_type": "stream",
     "text": [
      "epoch =   0, train_loss = 5125.038, val_loss = 5964.606, accuracy = 0.66\n",
      "epoch =   1, train_loss = 5180.779, val_loss = 5955.054, accuracy = 0.66\n",
      "epoch =   2, train_loss = 5181.051, val_loss = 5954.031, accuracy = 0.66\n",
      "epoch =   3, train_loss = 5181.028, val_loss = 5953.849, accuracy = 0.66\n",
      "epoch =   4, train_loss = 5181.017, val_loss = 5953.809, accuracy = 0.66\n",
      "epoch =   5, train_loss = 5181.014, val_loss = 5953.800, accuracy = 0.66\n",
      "epoch =   6, train_loss = 5181.013, val_loss = 5953.798, accuracy = 0.66\n",
      "Epoch     8: reducing learning rate of group 0 to 1.0000e-03.\n",
      "epoch =   7, train_loss = 5181.013, val_loss = 5953.797, accuracy = 0.66\n",
      "epoch =   8, train_loss = 5722.340, val_loss = 5522.720, accuracy = 0.68\n",
      "epoch =   9, train_loss = 5459.284, val_loss = 5404.684, accuracy = 0.68\n",
      "epoch =  10, train_loss = 5386.608, val_loss = 5373.220, accuracy = 0.68\n",
      "epoch =  11, train_loss = 5366.045, val_loss = 5363.897, accuracy = 0.68\n",
      "epoch =  12, train_loss = 5359.583, val_loss = 5360.831, accuracy = 0.68\n",
      "epoch =  13, train_loss = 5357.366, val_loss = 5359.753, accuracy = 0.68\n",
      "epoch =  14, train_loss = 5356.553, val_loss = 5359.354, accuracy = 0.68\n",
      "epoch =  15, train_loss = 5356.235, val_loss = 5359.200, accuracy = 0.68\n",
      "epoch =  16, train_loss = 5356.102, val_loss = 5359.137, accuracy = 0.68\n",
      "epoch =  17, train_loss = 5356.045, val_loss = 5359.112, accuracy = 0.68\n",
      "epoch =  18, train_loss = 5356.020, val_loss = 5359.102, accuracy = 0.68\n",
      "epoch =  19, train_loss = 5356.011, val_loss = 5359.100, accuracy = 0.68\n",
      "Epoch    21: reducing learning rate of group 0 to 1.0000e-04.\n",
      "INFO: Early stopping counter 1 of 4\n",
      "epoch =  20, train_loss = 5356.010, val_loss = 5359.101, accuracy = 0.68\n",
      "epoch =  21, train_loss = 5360.270, val_loss = 5354.414, accuracy = 0.68\n",
      "epoch =  22, train_loss = 5355.974, val_loss = 5350.527, accuracy = 0.68\n",
      "epoch =  23, train_loss = 5352.412, val_loss = 5347.306, accuracy = 0.68\n",
      "epoch =  24, train_loss = 5349.462, val_loss = 5344.641, accuracy = 0.68\n",
      "epoch =  25, train_loss = 5347.020, val_loss = 5342.436, accuracy = 0.68\n",
      "epoch =  26, train_loss = 5345.001, val_loss = 5340.613, accuracy = 0.68\n",
      "epoch =  27, train_loss = 5343.331, val_loss = 5339.105, accuracy = 0.68\n",
      "epoch =  28, train_loss = 5341.950, val_loss = 5337.859, accuracy = 0.68\n",
      "epoch =  29, train_loss = 5340.807, val_loss = 5336.827, accuracy = 0.68\n",
      "epoch =  30, train_loss = 5339.861, val_loss = 5335.972, accuracy = 0.68\n",
      "epoch =  31, train_loss = 5339.077, val_loss = 5335.264, accuracy = 0.68\n",
      "epoch =  32, train_loss = 5338.427, val_loss = 5334.676, accuracy = 0.68\n",
      "epoch =  33, train_loss = 5337.887, val_loss = 5334.187, accuracy = 0.68\n",
      "epoch =  34, train_loss = 5337.437, val_loss = 5333.780, accuracy = 0.68\n",
      "epoch =  35, train_loss = 5337.062, val_loss = 5333.441, accuracy = 0.68\n",
      "epoch =  36, train_loss = 5336.749, val_loss = 5333.157, accuracy = 0.68\n",
      "epoch =  37, train_loss = 5336.487, val_loss = 5332.919, accuracy = 0.68\n",
      "epoch =  38, train_loss = 5336.268, val_loss = 5332.719, accuracy = 0.68\n",
      "epoch =  39, train_loss = 5336.082, val_loss = 5332.551, accuracy = 0.68\n",
      "epoch =  40, train_loss = 5335.926, val_loss = 5332.409, accuracy = 0.68\n",
      "epoch =  41, train_loss = 5335.794, val_loss = 5332.288, accuracy = 0.68\n",
      "epoch =  42, train_loss = 5335.682, val_loss = 5332.186, accuracy = 0.68\n",
      "epoch =  43, train_loss = 5335.587, val_loss = 5332.099, accuracy = 0.68\n",
      "Epoch    45: reducing learning rate of group 0 to 1.0000e-05.\n",
      "epoch =  44, train_loss = 5335.506, val_loss = 5332.025, accuracy = 0.68\n",
      "epoch =  45, train_loss = 5332.397, val_loss = 5332.009, accuracy = 0.68\n",
      "epoch =  46, train_loss = 5332.382, val_loss = 5331.993, accuracy = 0.68\n",
      "epoch =  47, train_loss = 5332.367, val_loss = 5331.978, accuracy = 0.68\n",
      "epoch =  48, train_loss = 5332.352, val_loss = 5331.964, accuracy = 0.68\n",
      "epoch =  49, train_loss = 5332.337, val_loss = 5331.949, accuracy = 0.68\n",
      "Epoch    51: reducing learning rate of group 0 to 1.0000e-06.\n",
      "epoch =  50, train_loss = 5332.323, val_loss = 5331.935, accuracy = 0.68\n",
      "epoch =  51, train_loss = 5331.973, val_loss = 5331.934, accuracy = 0.68\n",
      "epoch =  52, train_loss = 5331.971, val_loss = 5331.932, accuracy = 0.68\n",
      "epoch =  53, train_loss = 5331.970, val_loss = 5331.931, accuracy = 0.68\n",
      "epoch =  54, train_loss = 5331.968, val_loss = 5331.929, accuracy = 0.68\n",
      "Epoch    56: reducing learning rate of group 0 to 1.0000e-07.\n",
      "epoch =  55, train_loss = 5331.967, val_loss = 5331.928, accuracy = 0.68\n",
      "INFO: Early stopping counter 2 of 4\n",
      "epoch =  56, train_loss = 5331.931, val_loss = 5331.928, accuracy = 0.68\n",
      "epoch =  57, train_loss = 5331.931, val_loss = 5331.927, accuracy = 0.68\n",
      "epoch =  58, train_loss = 5331.931, val_loss = 5331.927, accuracy = 0.68\n",
      "epoch =  59, train_loss = 5331.931, val_loss = 5331.927, accuracy = 0.68\n",
      "Epoch    61: reducing learning rate of group 0 to 1.0000e-08.\n",
      "INFO: Early stopping counter 3 of 4\n",
      "epoch =  60, train_loss = 5331.931, val_loss = 5331.927, accuracy = 0.68\n",
      "INFO: Early stopping counter 4 of 4\n",
      "INFO: Early stopping\n"
     ]
    }
   ],
   "source": [
    "learn.fit(100, lr=0.01, patience=4)"
   ]
  },
  {
   "cell_type": "code",
   "execution_count": null,
   "id": "c72d401f-b65d-4372-9f5f-a8c3a6023c65",
   "metadata": {},
   "outputs": [
    {
     "data": {
      "text/plain": [
       "{'a': tensor([[ 0.0000],\n",
       "         [-0.7201],\n",
       "         [-0.1303]], grad_fn=<CatBackward>),\n",
       " 'b': Parameter containing:\n",
       " tensor([[-1.2968],\n",
       "         [-1.0880]], requires_grad=True)}"
      ]
     },
     "execution_count": null,
     "metadata": {},
     "output_type": "execute_result"
    }
   ],
   "source": [
    "model.get_params()"
   ]
  },
  {
   "cell_type": "markdown",
   "id": "3a6037a5-2c12-48d3-bd68-3916702f25ea",
   "metadata": {},
   "source": [
    "## fastai Tabular model\n",
    "How does a simple NN performs"
   ]
  },
  {
   "cell_type": "code",
   "execution_count": null,
   "id": "4e6a2e96-4d6a-4d29-b418-39864fc69b42",
   "metadata": {},
   "outputs": [],
   "source": [
    "from fastai.tabular.all import *"
   ]
  },
  {
   "cell_type": "code",
   "execution_count": null,
   "id": "62255aaf-c7e6-403d-8354-8b3e13de2d66",
   "metadata": {},
   "outputs": [
    {
     "data": {
      "text/html": [
       "<div>\n",
       "<style scoped>\n",
       "    .dataframe tbody tr th:only-of-type {\n",
       "        vertical-align: middle;\n",
       "    }\n",
       "\n",
       "    .dataframe tbody tr th {\n",
       "        vertical-align: top;\n",
       "    }\n",
       "\n",
       "    .dataframe thead th {\n",
       "        text-align: right;\n",
       "    }\n",
       "</style>\n",
       "<table border=\"1\" class=\"dataframe\">\n",
       "  <thead>\n",
       "    <tr style=\"text-align: right;\">\n",
       "      <th></th>\n",
       "      <th>GROUP</th>\n",
       "      <th>SURVEY</th>\n",
       "      <th>SP</th>\n",
       "      <th>ID</th>\n",
       "      <th>PURPOSE</th>\n",
       "      <th>FIRST</th>\n",
       "      <th>TICKET</th>\n",
       "      <th>WHO</th>\n",
       "      <th>LUGGAGE</th>\n",
       "      <th>AGE</th>\n",
       "      <th>...</th>\n",
       "      <th>TRAIN_TT</th>\n",
       "      <th>TRAIN_CO</th>\n",
       "      <th>TRAIN_HE</th>\n",
       "      <th>SM_TT</th>\n",
       "      <th>SM_CO</th>\n",
       "      <th>SM_HE</th>\n",
       "      <th>SM_SEATS</th>\n",
       "      <th>CAR_TT</th>\n",
       "      <th>CAR_CO</th>\n",
       "      <th>CHOICE</th>\n",
       "    </tr>\n",
       "  </thead>\n",
       "  <tbody>\n",
       "    <tr>\n",
       "      <th>0</th>\n",
       "      <td>2</td>\n",
       "      <td>0</td>\n",
       "      <td>1</td>\n",
       "      <td>1</td>\n",
       "      <td>1</td>\n",
       "      <td>0</td>\n",
       "      <td>1</td>\n",
       "      <td>1</td>\n",
       "      <td>0</td>\n",
       "      <td>3</td>\n",
       "      <td>...</td>\n",
       "      <td>112</td>\n",
       "      <td>48</td>\n",
       "      <td>120</td>\n",
       "      <td>63</td>\n",
       "      <td>52</td>\n",
       "      <td>20</td>\n",
       "      <td>0</td>\n",
       "      <td>117</td>\n",
       "      <td>65</td>\n",
       "      <td>2</td>\n",
       "    </tr>\n",
       "    <tr>\n",
       "      <th>1</th>\n",
       "      <td>2</td>\n",
       "      <td>0</td>\n",
       "      <td>1</td>\n",
       "      <td>1</td>\n",
       "      <td>1</td>\n",
       "      <td>0</td>\n",
       "      <td>1</td>\n",
       "      <td>1</td>\n",
       "      <td>0</td>\n",
       "      <td>3</td>\n",
       "      <td>...</td>\n",
       "      <td>103</td>\n",
       "      <td>48</td>\n",
       "      <td>30</td>\n",
       "      <td>60</td>\n",
       "      <td>49</td>\n",
       "      <td>10</td>\n",
       "      <td>0</td>\n",
       "      <td>117</td>\n",
       "      <td>84</td>\n",
       "      <td>2</td>\n",
       "    </tr>\n",
       "    <tr>\n",
       "      <th>2</th>\n",
       "      <td>2</td>\n",
       "      <td>0</td>\n",
       "      <td>1</td>\n",
       "      <td>1</td>\n",
       "      <td>1</td>\n",
       "      <td>0</td>\n",
       "      <td>1</td>\n",
       "      <td>1</td>\n",
       "      <td>0</td>\n",
       "      <td>3</td>\n",
       "      <td>...</td>\n",
       "      <td>130</td>\n",
       "      <td>48</td>\n",
       "      <td>60</td>\n",
       "      <td>67</td>\n",
       "      <td>58</td>\n",
       "      <td>30</td>\n",
       "      <td>0</td>\n",
       "      <td>117</td>\n",
       "      <td>52</td>\n",
       "      <td>2</td>\n",
       "    </tr>\n",
       "    <tr>\n",
       "      <th>3</th>\n",
       "      <td>2</td>\n",
       "      <td>0</td>\n",
       "      <td>1</td>\n",
       "      <td>1</td>\n",
       "      <td>1</td>\n",
       "      <td>0</td>\n",
       "      <td>1</td>\n",
       "      <td>1</td>\n",
       "      <td>0</td>\n",
       "      <td>3</td>\n",
       "      <td>...</td>\n",
       "      <td>103</td>\n",
       "      <td>40</td>\n",
       "      <td>30</td>\n",
       "      <td>63</td>\n",
       "      <td>52</td>\n",
       "      <td>20</td>\n",
       "      <td>0</td>\n",
       "      <td>72</td>\n",
       "      <td>52</td>\n",
       "      <td>2</td>\n",
       "    </tr>\n",
       "    <tr>\n",
       "      <th>4</th>\n",
       "      <td>2</td>\n",
       "      <td>0</td>\n",
       "      <td>1</td>\n",
       "      <td>1</td>\n",
       "      <td>1</td>\n",
       "      <td>0</td>\n",
       "      <td>1</td>\n",
       "      <td>1</td>\n",
       "      <td>0</td>\n",
       "      <td>3</td>\n",
       "      <td>...</td>\n",
       "      <td>130</td>\n",
       "      <td>36</td>\n",
       "      <td>60</td>\n",
       "      <td>63</td>\n",
       "      <td>42</td>\n",
       "      <td>20</td>\n",
       "      <td>0</td>\n",
       "      <td>90</td>\n",
       "      <td>84</td>\n",
       "      <td>2</td>\n",
       "    </tr>\n",
       "  </tbody>\n",
       "</table>\n",
       "<p>5 rows × 28 columns</p>\n",
       "</div>"
      ],
      "text/plain": [
       "   GROUP  SURVEY  SP  ID  PURPOSE  FIRST  TICKET  WHO  LUGGAGE  AGE  ...  \\\n",
       "0      2       0   1   1        1      0       1    1        0    3  ...   \n",
       "1      2       0   1   1        1      0       1    1        0    3  ...   \n",
       "2      2       0   1   1        1      0       1    1        0    3  ...   \n",
       "3      2       0   1   1        1      0       1    1        0    3  ...   \n",
       "4      2       0   1   1        1      0       1    1        0    3  ...   \n",
       "\n",
       "   TRAIN_TT  TRAIN_CO  TRAIN_HE  SM_TT  SM_CO  SM_HE  SM_SEATS  CAR_TT  \\\n",
       "0       112        48       120     63     52     20         0     117   \n",
       "1       103        48        30     60     49     10         0     117   \n",
       "2       130        48        60     67     58     30         0     117   \n",
       "3       103        40        30     63     52     20         0      72   \n",
       "4       130        36        60     63     42     20         0      90   \n",
       "\n",
       "   CAR_CO  CHOICE  \n",
       "0      65       2  \n",
       "1      84       2  \n",
       "2      52       2  \n",
       "3      52       2  \n",
       "4      84       2  \n",
       "\n",
       "[5 rows x 28 columns]"
      ]
     },
     "execution_count": null,
     "metadata": {},
     "output_type": "execute_result"
    }
   ],
   "source": [
    "df = pd.read_csv(PATH/'swissmetro.dat', '\\t')\n",
    "df.head()"
   ]
  },
  {
   "cell_type": "code",
   "execution_count": null,
   "id": "940a4a7e-a265-4647-8548-e9ca7b2b167d",
   "metadata": {},
   "outputs": [],
   "source": [
    "cardinality = {c:k for c,k in zip(df.columns,df.nunique())}"
   ]
  },
  {
   "cell_type": "code",
   "execution_count": null,
   "id": "53be8e4b-9e1e-43de-b180-5623e5c5d2f5",
   "metadata": {},
   "outputs": [
    {
     "data": {
      "text/plain": [
       "(['ID',\n",
       "  'ORIGIN',\n",
       "  'DEST',\n",
       "  'TRAIN_TT',\n",
       "  'TRAIN_CO',\n",
       "  'SM_TT',\n",
       "  'SM_CO',\n",
       "  'CAR_TT',\n",
       "  'CAR_CO'],\n",
       " ['GROUP',\n",
       "  'SURVEY',\n",
       "  'SP',\n",
       "  'PURPOSE',\n",
       "  'FIRST',\n",
       "  'TICKET',\n",
       "  'WHO',\n",
       "  'LUGGAGE',\n",
       "  'AGE',\n",
       "  'MALE',\n",
       "  'INCOME',\n",
       "  'GA',\n",
       "  'TRAIN_AV',\n",
       "  'CAR_AV',\n",
       "  'SM_AV',\n",
       "  'TRAIN_HE',\n",
       "  'SM_HE',\n",
       "  'SM_SEATS'])"
      ]
     },
     "execution_count": null,
     "metadata": {},
     "output_type": "execute_result"
    }
   ],
   "source": [
    "target_col = 'CHOICE'\n",
    "\n",
    "cats = [c for c,k in cardinality.items() if k<=10 and c!=target_col]\n",
    "conts = [c for c,k in cardinality.items() if k>10 and c!=target_col]\n",
    "conts, cats"
   ]
  },
  {
   "cell_type": "code",
   "execution_count": null,
   "id": "ac5e6f8d-1c31-48b6-bccb-2515162b726a",
   "metadata": {},
   "outputs": [],
   "source": [
    "dls = TabularDataLoaders.from_df(df, cat_names=cats, cont_names=conts, y_names=target_col, y_block=CategoryBlock, procs = [Categorify, FillMissing, Normalize], bs=256)"
   ]
  },
  {
   "cell_type": "code",
   "execution_count": null,
   "id": "eb6bb538-bc62-4e6b-add1-76c3d9f32a85",
   "metadata": {},
   "outputs": [],
   "source": [
    "learn = tabular_learner(dls, loss_func=CrossEntropyLossFlat(reduction='sum'), metrics=accuracy)"
   ]
  },
  {
   "cell_type": "code",
   "execution_count": null,
   "id": "d7794942-0903-4887-a099-244a3f4bba32",
   "metadata": {},
   "outputs": [
    {
     "data": {
      "text/html": [
       "<table border=\"1\" class=\"dataframe\">\n",
       "  <thead>\n",
       "    <tr style=\"text-align: left;\">\n",
       "      <th>epoch</th>\n",
       "      <th>train_loss</th>\n",
       "      <th>valid_loss</th>\n",
       "      <th>accuracy</th>\n",
       "      <th>time</th>\n",
       "    </tr>\n",
       "  </thead>\n",
       "  <tbody>\n",
       "    <tr>\n",
       "      <td>0</td>\n",
       "      <td>343.525818</td>\n",
       "      <td>333.333862</td>\n",
       "      <td>0.391142</td>\n",
       "      <td>00:00</td>\n",
       "    </tr>\n",
       "    <tr>\n",
       "      <td>1</td>\n",
       "      <td>312.869629</td>\n",
       "      <td>270.616272</td>\n",
       "      <td>0.625175</td>\n",
       "      <td>00:00</td>\n",
       "    </tr>\n",
       "    <tr>\n",
       "      <td>2</td>\n",
       "      <td>281.832031</td>\n",
       "      <td>236.641037</td>\n",
       "      <td>0.679254</td>\n",
       "      <td>00:00</td>\n",
       "    </tr>\n",
       "    <tr>\n",
       "      <td>3</td>\n",
       "      <td>251.923615</td>\n",
       "      <td>211.664108</td>\n",
       "      <td>0.695571</td>\n",
       "      <td>00:00</td>\n",
       "    </tr>\n",
       "    <tr>\n",
       "      <td>4</td>\n",
       "      <td>223.749283</td>\n",
       "      <td>191.840439</td>\n",
       "      <td>0.711888</td>\n",
       "      <td>00:00</td>\n",
       "    </tr>\n",
       "    <tr>\n",
       "      <td>5</td>\n",
       "      <td>200.292496</td>\n",
       "      <td>176.182175</td>\n",
       "      <td>0.726807</td>\n",
       "      <td>00:00</td>\n",
       "    </tr>\n",
       "    <tr>\n",
       "      <td>6</td>\n",
       "      <td>182.467499</td>\n",
       "      <td>168.089432</td>\n",
       "      <td>0.728205</td>\n",
       "      <td>00:00</td>\n",
       "    </tr>\n",
       "    <tr>\n",
       "      <td>7</td>\n",
       "      <td>170.501892</td>\n",
       "      <td>166.915421</td>\n",
       "      <td>0.728671</td>\n",
       "      <td>00:00</td>\n",
       "    </tr>\n",
       "    <tr>\n",
       "      <td>8</td>\n",
       "      <td>162.353912</td>\n",
       "      <td>163.361633</td>\n",
       "      <td>0.731469</td>\n",
       "      <td>00:00</td>\n",
       "    </tr>\n",
       "    <tr>\n",
       "      <td>9</td>\n",
       "      <td>158.269333</td>\n",
       "      <td>163.453918</td>\n",
       "      <td>0.737995</td>\n",
       "      <td>00:00</td>\n",
       "    </tr>\n",
       "  </tbody>\n",
       "</table>"
      ],
      "text/plain": [
       "<IPython.core.display.HTML object>"
      ]
     },
     "metadata": {},
     "output_type": "display_data"
    }
   ],
   "source": [
    "learn.fit_one_cycle(10)"
   ]
  },
  {
   "cell_type": "markdown",
   "id": "df157bc8-e13a-4ec7-916b-31ca6af4f6de",
   "metadata": {},
   "source": [
    "## RandomForest"
   ]
  },
  {
   "cell_type": "code",
   "execution_count": null,
   "id": "0049ca06-67fa-42a2-8a69-4279e3f2eefb",
   "metadata": {},
   "outputs": [],
   "source": [
    "from sklearn.ensemble import RandomForestClassifier"
   ]
  },
  {
   "cell_type": "code",
   "execution_count": null,
   "id": "d6cb0851-0147-4f30-8531-b9bfa2b7af4b",
   "metadata": {},
   "outputs": [],
   "source": [
    "X_train, y_train = dls.train.xs, dls.train.ys.values.ravel()\n",
    "X_test, y_test = dls.valid.xs, dls.valid.ys.values.ravel()"
   ]
  },
  {
   "cell_type": "code",
   "execution_count": null,
   "id": "76294de1-cb54-4d03-b75d-ea8ba672ad8e",
   "metadata": {},
   "outputs": [],
   "source": [
    "rf = RandomForestClassifier()"
   ]
  },
  {
   "cell_type": "code",
   "execution_count": null,
   "id": "fead8828-8cce-4188-957d-9a040beecae3",
   "metadata": {},
   "outputs": [
    {
     "data": {
      "text/plain": [
       "RandomForestClassifier()"
      ]
     },
     "execution_count": null,
     "metadata": {},
     "output_type": "execute_result"
    }
   ],
   "source": [
    "rf.fit(X_train, y_train)"
   ]
  },
  {
   "cell_type": "code",
   "execution_count": null,
   "id": "37681927-3bff-4481-81be-2a5141363533",
   "metadata": {},
   "outputs": [],
   "source": [
    "preds = rf.predict(X_test)"
   ]
  },
  {
   "cell_type": "code",
   "execution_count": null,
   "id": "26fe48fb-2c2b-407c-93ef-ad5c9ef53eaf",
   "metadata": {},
   "outputs": [
    {
     "data": {
      "text/plain": [
       "78.46153846153847"
      ]
     },
     "execution_count": null,
     "metadata": {},
     "output_type": "execute_result"
    }
   ],
   "source": [
    "(y_test == preds).mean() * 100"
   ]
  }
 ],
 "metadata": {
  "kernelspec": {
   "display_name": "Python 3",
   "language": "python",
   "name": "python3"
  }
 },
 "nbformat": 4,
 "nbformat_minor": 5
}
