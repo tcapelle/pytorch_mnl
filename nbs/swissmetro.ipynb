{
 "cells": [
  {
   "cell_type": "code",
   "execution_count": null,
   "id": "a254475d-3374-4f47-9902-cc6c4a30b1c3",
   "metadata": {},
   "outputs": [],
   "source": [
    "from pathlib import Path\n",
    "import pandas as pd\n",
    "from pytorch_mnl.core import *"
   ]
  },
  {
   "cell_type": "code",
   "execution_count": null,
   "id": "32b463f8-1e67-4b17-a04d-c70ae2552755",
   "metadata": {},
   "outputs": [],
   "source": [
    "PATH = Path('data')"
   ]
  },
  {
   "cell_type": "code",
   "execution_count": null,
   "id": "dd3d3204-2877-4f17-99df-b9df1931d325",
   "metadata": {},
   "outputs": [],
   "source": [
    "df = pd.read_csv(PATH/'swissmetro.dat', '\\t')"
   ]
  },
  {
   "cell_type": "code",
   "execution_count": null,
   "id": "4421cccb-3a0b-4e07-9b4b-ec2a94b5b6cc",
   "metadata": {},
   "outputs": [
    {
     "data": {
      "text/html": [
       "<div>\n",
       "<style scoped>\n",
       "    .dataframe tbody tr th:only-of-type {\n",
       "        vertical-align: middle;\n",
       "    }\n",
       "\n",
       "    .dataframe tbody tr th {\n",
       "        vertical-align: top;\n",
       "    }\n",
       "\n",
       "    .dataframe thead th {\n",
       "        text-align: right;\n",
       "    }\n",
       "</style>\n",
       "<table border=\"1\" class=\"dataframe\">\n",
       "  <thead>\n",
       "    <tr style=\"text-align: right;\">\n",
       "      <th></th>\n",
       "      <th>GROUP</th>\n",
       "      <th>SURVEY</th>\n",
       "      <th>SP</th>\n",
       "      <th>ID</th>\n",
       "      <th>PURPOSE</th>\n",
       "      <th>FIRST</th>\n",
       "      <th>TICKET</th>\n",
       "      <th>WHO</th>\n",
       "      <th>LUGGAGE</th>\n",
       "      <th>AGE</th>\n",
       "      <th>...</th>\n",
       "      <th>TRAIN_TT</th>\n",
       "      <th>TRAIN_CO</th>\n",
       "      <th>TRAIN_HE</th>\n",
       "      <th>SM_TT</th>\n",
       "      <th>SM_CO</th>\n",
       "      <th>SM_HE</th>\n",
       "      <th>SM_SEATS</th>\n",
       "      <th>CAR_TT</th>\n",
       "      <th>CAR_CO</th>\n",
       "      <th>CHOICE</th>\n",
       "    </tr>\n",
       "  </thead>\n",
       "  <tbody>\n",
       "    <tr>\n",
       "      <th>0</th>\n",
       "      <td>2</td>\n",
       "      <td>0</td>\n",
       "      <td>1</td>\n",
       "      <td>1</td>\n",
       "      <td>1</td>\n",
       "      <td>0</td>\n",
       "      <td>1</td>\n",
       "      <td>1</td>\n",
       "      <td>0</td>\n",
       "      <td>3</td>\n",
       "      <td>...</td>\n",
       "      <td>112</td>\n",
       "      <td>48</td>\n",
       "      <td>120</td>\n",
       "      <td>63</td>\n",
       "      <td>52</td>\n",
       "      <td>20</td>\n",
       "      <td>0</td>\n",
       "      <td>117</td>\n",
       "      <td>65</td>\n",
       "      <td>2</td>\n",
       "    </tr>\n",
       "    <tr>\n",
       "      <th>1</th>\n",
       "      <td>2</td>\n",
       "      <td>0</td>\n",
       "      <td>1</td>\n",
       "      <td>1</td>\n",
       "      <td>1</td>\n",
       "      <td>0</td>\n",
       "      <td>1</td>\n",
       "      <td>1</td>\n",
       "      <td>0</td>\n",
       "      <td>3</td>\n",
       "      <td>...</td>\n",
       "      <td>103</td>\n",
       "      <td>48</td>\n",
       "      <td>30</td>\n",
       "      <td>60</td>\n",
       "      <td>49</td>\n",
       "      <td>10</td>\n",
       "      <td>0</td>\n",
       "      <td>117</td>\n",
       "      <td>84</td>\n",
       "      <td>2</td>\n",
       "    </tr>\n",
       "    <tr>\n",
       "      <th>2</th>\n",
       "      <td>2</td>\n",
       "      <td>0</td>\n",
       "      <td>1</td>\n",
       "      <td>1</td>\n",
       "      <td>1</td>\n",
       "      <td>0</td>\n",
       "      <td>1</td>\n",
       "      <td>1</td>\n",
       "      <td>0</td>\n",
       "      <td>3</td>\n",
       "      <td>...</td>\n",
       "      <td>130</td>\n",
       "      <td>48</td>\n",
       "      <td>60</td>\n",
       "      <td>67</td>\n",
       "      <td>58</td>\n",
       "      <td>30</td>\n",
       "      <td>0</td>\n",
       "      <td>117</td>\n",
       "      <td>52</td>\n",
       "      <td>2</td>\n",
       "    </tr>\n",
       "    <tr>\n",
       "      <th>3</th>\n",
       "      <td>2</td>\n",
       "      <td>0</td>\n",
       "      <td>1</td>\n",
       "      <td>1</td>\n",
       "      <td>1</td>\n",
       "      <td>0</td>\n",
       "      <td>1</td>\n",
       "      <td>1</td>\n",
       "      <td>0</td>\n",
       "      <td>3</td>\n",
       "      <td>...</td>\n",
       "      <td>103</td>\n",
       "      <td>40</td>\n",
       "      <td>30</td>\n",
       "      <td>63</td>\n",
       "      <td>52</td>\n",
       "      <td>20</td>\n",
       "      <td>0</td>\n",
       "      <td>72</td>\n",
       "      <td>52</td>\n",
       "      <td>2</td>\n",
       "    </tr>\n",
       "    <tr>\n",
       "      <th>4</th>\n",
       "      <td>2</td>\n",
       "      <td>0</td>\n",
       "      <td>1</td>\n",
       "      <td>1</td>\n",
       "      <td>1</td>\n",
       "      <td>0</td>\n",
       "      <td>1</td>\n",
       "      <td>1</td>\n",
       "      <td>0</td>\n",
       "      <td>3</td>\n",
       "      <td>...</td>\n",
       "      <td>130</td>\n",
       "      <td>36</td>\n",
       "      <td>60</td>\n",
       "      <td>63</td>\n",
       "      <td>42</td>\n",
       "      <td>20</td>\n",
       "      <td>0</td>\n",
       "      <td>90</td>\n",
       "      <td>84</td>\n",
       "      <td>2</td>\n",
       "    </tr>\n",
       "  </tbody>\n",
       "</table>\n",
       "<p>5 rows × 28 columns</p>\n",
       "</div>"
      ],
      "text/plain": [
       "   GROUP  SURVEY  SP  ID  PURPOSE  FIRST  TICKET  WHO  LUGGAGE  AGE  ...  \\\n",
       "0      2       0   1   1        1      0       1    1        0    3  ...   \n",
       "1      2       0   1   1        1      0       1    1        0    3  ...   \n",
       "2      2       0   1   1        1      0       1    1        0    3  ...   \n",
       "3      2       0   1   1        1      0       1    1        0    3  ...   \n",
       "4      2       0   1   1        1      0       1    1        0    3  ...   \n",
       "\n",
       "   TRAIN_TT  TRAIN_CO  TRAIN_HE  SM_TT  SM_CO  SM_HE  SM_SEATS  CAR_TT  \\\n",
       "0       112        48       120     63     52     20         0     117   \n",
       "1       103        48        30     60     49     10         0     117   \n",
       "2       130        48        60     67     58     30         0     117   \n",
       "3       103        40        30     63     52     20         0      72   \n",
       "4       130        36        60     63     42     20         0      90   \n",
       "\n",
       "   CAR_CO  CHOICE  \n",
       "0      65       2  \n",
       "1      84       2  \n",
       "2      52       2  \n",
       "3      52       2  \n",
       "4      84       2  \n",
       "\n",
       "[5 rows x 28 columns]"
      ]
     },
     "execution_count": null,
     "metadata": {},
     "output_type": "execute_result"
    }
   ],
   "source": [
    "df.head()"
   ]
  },
  {
   "cell_type": "markdown",
   "id": "9ffa33e2-3831-4231-8ee6-1441621502e1",
   "metadata": {},
   "source": [
    "Remove some observations\n"
   ]
  },
  {
   "cell_type": "code",
   "execution_count": null,
   "id": "28072c0b-ee3f-4bf7-9367-d83a38e90b32",
   "metadata": {},
   "outputs": [],
   "source": [
    "exclude = df.query('(PURPOSE != 1 and PURPOSE != 3) or CHOICE == 0')"
   ]
  },
  {
   "cell_type": "code",
   "execution_count": null,
   "id": "f29f1a7a-1fa0-444c-808c-836424bfdb1a",
   "metadata": {},
   "outputs": [
    {
     "data": {
      "text/plain": [
       "6768"
      ]
     },
     "execution_count": null,
     "metadata": {},
     "output_type": "execute_result"
    }
   ],
   "source": [
    "df = df.drop(exclude.index)\n",
    "len(df)"
   ]
  },
  {
   "cell_type": "code",
   "execution_count": null,
   "id": "03b67ff6-ebe0-463d-86bb-abbd52af5014",
   "metadata": {},
   "outputs": [
    {
     "data": {
      "text/plain": [
       "['GROUP',\n",
       " 'SURVEY',\n",
       " 'SP',\n",
       " 'ID',\n",
       " 'PURPOSE',\n",
       " 'FIRST',\n",
       " 'TICKET',\n",
       " 'WHO',\n",
       " 'LUGGAGE',\n",
       " 'AGE',\n",
       " 'MALE',\n",
       " 'INCOME',\n",
       " 'GA',\n",
       " 'ORIGIN',\n",
       " 'DEST',\n",
       " 'TRAIN_AV',\n",
       " 'CAR_AV',\n",
       " 'SM_AV',\n",
       " 'TRAIN_TT',\n",
       " 'TRAIN_CO',\n",
       " 'TRAIN_HE',\n",
       " 'SM_TT',\n",
       " 'SM_CO',\n",
       " 'SM_HE',\n",
       " 'SM_SEATS',\n",
       " 'CAR_TT',\n",
       " 'CAR_CO',\n",
       " 'CHOICE',\n",
       " 'SM_COST',\n",
       " 'TRAIN_COST',\n",
       " 'CAR_AV_SP',\n",
       " 'TRAIN_AV_SP',\n",
       " 'TRAIN_TT_SCALED',\n",
       " 'TRAIN_COST_SCALED',\n",
       " 'SM_TT_SCALED',\n",
       " 'SM_COST_SCALED',\n",
       " 'CAR_TT_SCALED',\n",
       " 'CAR_CO_SCALED']"
      ]
     },
     "execution_count": null,
     "metadata": {},
     "output_type": "execute_result"
    }
   ],
   "source": [
    "df.columns.to_list()"
   ]
  },
  {
   "cell_type": "markdown",
   "id": "4ce6db7f-c343-4e11-89f1-9cebbee77d2c",
   "metadata": {},
   "source": [
    "Model Params"
   ]
  },
  {
   "cell_type": "code",
   "execution_count": null,
   "id": "48186611-2890-48c4-9b22-0bc150e9e811",
   "metadata": {},
   "outputs": [],
   "source": [
    "# ASC_CAR = Beta('ASC_CAR', 0, None, None, 0)\n",
    "# ASC_TRAIN = Beta('ASC_TRAIN', 0, None, None, 0)\n",
    "# ASC_SM = Beta('ASC_SM', 0, None, None, 1)\n",
    "# B_TIME = Beta('B_TIME', 0, None, None, 0)\n",
    "# B_COST = Beta('B_COST', 0, None, None, 0)"
   ]
  },
  {
   "cell_type": "markdown",
   "id": "3912107e-f6d9-45cd-af09-0dd2386b3dd6",
   "metadata": {},
   "source": [
    "Definition of new variables"
   ]
  },
  {
   "cell_type": "code",
   "execution_count": null,
   "id": "6936247c-bb30-4741-b8cd-5418dd6b4f45",
   "metadata": {},
   "outputs": [],
   "source": [
    "df = df.assign(SM_COST = df['SM_CO'] * (df['GA'] == 0))\n",
    "df = df.assign(TRAIN_COST = df['TRAIN_CO'] * (df['GA'] == 0))\n",
    "df = df.assign(CAR_AV_SP = df['CAR_AV'] * (df['SP'] != 0))\n",
    "df = df.assign(TRAIN_AV_SP = df['TRAIN_AV'] * (df['SP'] != 0))\n",
    "df = df.assign(TRAIN_TT_SCALED = df['TRAIN_TT'] / 100)\n",
    "df = df.assign(TRAIN_COST_SCALED = df['TRAIN_COST'] / 100)\n",
    "df = df.assign(SM_TT_SCALED = df['SM_TT'] / 100)\n",
    "df = df.assign(SM_COST_SCALED = df['SM_COST'] / 100)\n",
    "df = df.assign(CAR_TT_SCALED = df['CAR_TT'] / 100)\n",
    "df = df.assign(CAR_CO_SCALED = df['CAR_CO'] / 100)"
   ]
  },
  {
   "cell_type": "code",
   "execution_count": null,
   "id": "97c4a13a-1460-4d0f-b85f-87161ea34435",
   "metadata": {},
   "outputs": [
    {
     "data": {
      "text/plain": [
       "['GROUP',\n",
       " 'SURVEY',\n",
       " 'SP',\n",
       " 'ID',\n",
       " 'PURPOSE',\n",
       " 'FIRST',\n",
       " 'TICKET',\n",
       " 'WHO',\n",
       " 'LUGGAGE',\n",
       " 'AGE',\n",
       " 'MALE',\n",
       " 'INCOME',\n",
       " 'GA',\n",
       " 'ORIGIN',\n",
       " 'DEST',\n",
       " 'TRAIN_AV',\n",
       " 'CAR_AV',\n",
       " 'SM_AV',\n",
       " 'TRAIN_TT',\n",
       " 'TRAIN_CO',\n",
       " 'TRAIN_HE',\n",
       " 'SM_TT',\n",
       " 'SM_CO',\n",
       " 'SM_HE',\n",
       " 'SM_SEATS',\n",
       " 'CAR_TT',\n",
       " 'CAR_CO',\n",
       " 'CHOICE',\n",
       " 'SM_COST',\n",
       " 'TRAIN_COST',\n",
       " 'CAR_AV_SP',\n",
       " 'TRAIN_AV_SP',\n",
       " 'TRAIN_TT_SCALED',\n",
       " 'TRAIN_COST_SCALED',\n",
       " 'SM_TT_SCALED',\n",
       " 'SM_COST_SCALED',\n",
       " 'CAR_TT_SCALED',\n",
       " 'CAR_CO_SCALED']"
      ]
     },
     "execution_count": null,
     "metadata": {},
     "output_type": "execute_result"
    }
   ],
   "source": [
    "df.columns.to_list()"
   ]
  },
  {
   "cell_type": "markdown",
   "id": "6cd185b2-6d03-4609-94b1-7cad17669bc4",
   "metadata": {},
   "source": [
    "## Utility Func\n",
    "> you have to define your model as a nn.Module"
   ]
  },
  {
   "cell_type": "code",
   "execution_count": null,
   "id": "6c20f6d4-5495-40c0-bc1c-9a4b8c5164f7",
   "metadata": {},
   "outputs": [],
   "source": [
    "# V1 = ASC_TRAIN + \\\n",
    "#      B_TIME * TRAIN_TT_SCALED + \\\n",
    "#      B_COST * TRAIN_COST_SCALED\n",
    "# V2 = ASC_SM + \\\n",
    "#      B_TIME * SM_TT_SCALED + \\\n",
    "#      B_COST * SM_COST_SCALED\n",
    "# V3 = ASC_CAR + \\\n",
    "#      B_TIME * CAR_TT_SCALED + \\\n",
    "#      B_COST * CAR_CO_SCALED"
   ]
  },
  {
   "cell_type": "markdown",
   "id": "fa7e4ef6-70d1-4134-b136-bc66ce0ef5eb",
   "metadata": {},
   "source": [
    "$$V = a + b\\cdot x $$"
   ]
  },
  {
   "cell_type": "code",
   "execution_count": null,
   "id": "0c16906c-025e-4e11-8e93-105f7c57949a",
   "metadata": {},
   "outputs": [],
   "source": [
    "import torch\n",
    "import torch.nn as nn\n",
    "\n",
    "class Model(nn.Module):\n",
    "    def __init__(self, n_choices=3, n_params=2):\n",
    "        super().__init__()\n",
    "        self.b = nn.Parameter(torch.randn(n_params,1))\n",
    "        self.a = nn.Parameter(torch.randn(n_choices, 1))\n",
    "        \n",
    "    def forward(self, x):\n",
    "        return (self.a + x @ self.b).squeeze()"
   ]
  },
  {
   "cell_type": "code",
   "execution_count": null,
   "id": "b734fcbe-6a8d-4fb4-a09b-7531ee013070",
   "metadata": {},
   "outputs": [],
   "source": [
    "model = Model()"
   ]
  },
  {
   "cell_type": "code",
   "execution_count": null,
   "id": "bdaea3e3-4ff1-4d3e-acf7-34ec78d6c5f4",
   "metadata": {},
   "outputs": [
    {
     "data": {
      "text/plain": [
       "torch.Size([8, 3])"
      ]
     },
     "execution_count": null,
     "metadata": {},
     "output_type": "execute_result"
    }
   ],
   "source": [
    "model(torch.rand(8, 3, 2)).shape"
   ]
  },
  {
   "cell_type": "code",
   "execution_count": null,
   "id": "3606eec3-a4b2-4392-9fd1-6c09683c704e",
   "metadata": {},
   "outputs": [],
   "source": [
    "x_cols =  ['TRAIN_TT_SCALED',\n",
    "           'TRAIN_COST_SCALED',\n",
    "           'SM_TT_SCALED',\n",
    "           'SM_COST_SCALED',\n",
    "           'CAR_TT_SCALED',\n",
    "           'CAR_CO_SCALED']"
   ]
  },
  {
   "cell_type": "code",
   "execution_count": null,
   "id": "1246af95-a541-4211-a662-3e5e2dedccee",
   "metadata": {},
   "outputs": [
    {
     "data": {
      "text/plain": [
       "tensor([[0, 1],\n",
       "        [2, 3],\n",
       "        [4, 5]])"
      ]
     },
     "execution_count": null,
     "metadata": {},
     "output_type": "execute_result"
    }
   ],
   "source": [
    "torch.arange(0,6).reshape(3,2)"
   ]
  },
  {
   "cell_type": "code",
   "execution_count": null,
   "id": "3c3ca6f0-d5f0-441d-aeb4-6254b6181f8d",
   "metadata": {},
   "outputs": [],
   "source": [
    "X, y = prepare_data(df, x_cols=x_cols, target_col='CHOICE')\n",
    "\n",
    "X = X.reshape(-1,3,2)"
   ]
  },
  {
   "cell_type": "code",
   "execution_count": null,
   "id": "75f6fda7-00d3-4f90-b741-c588f792f121",
   "metadata": {},
   "outputs": [],
   "source": [
    "dls = DataLoaders.from_Xy(X, y, pct=0.2, batch_size=8)"
   ]
  },
  {
   "cell_type": "code",
   "execution_count": null,
   "id": "342b39f0-60a0-46d0-bc3e-fae376e58b62",
   "metadata": {},
   "outputs": [],
   "source": [
    "x,y = dls.one_batch()"
   ]
  },
  {
   "cell_type": "code",
   "execution_count": null,
   "id": "83a884ea-6bc5-4ce9-880a-ca657dc22ce5",
   "metadata": {},
   "outputs": [
    {
     "data": {
      "text/plain": [
       "tensor([[ 0.5581,  0.9800, -0.0425],\n",
       "        [-0.0487,  0.4095,  0.4071],\n",
       "        [ 0.3338,  1.0630,  0.0887],\n",
       "        [-0.0885,  0.8173, -0.0624],\n",
       "        [-0.0015,  0.6939,  0.3146],\n",
       "        [ 0.1010,  1.1376,  0.5224],\n",
       "        [ 0.5323,  1.0341,  0.1136],\n",
       "        [ 0.7406,  1.3480, -0.0027]], grad_fn=<SqueezeBackward0>)"
      ]
     },
     "execution_count": null,
     "metadata": {},
     "output_type": "execute_result"
    }
   ],
   "source": [
    "model(x)"
   ]
  },
  {
   "cell_type": "code",
   "execution_count": null,
   "id": "c6576b0b-7592-4f40-b9fb-bd9a258a67c2",
   "metadata": {},
   "outputs": [
    {
     "data": {
      "text/plain": [
       "tensor(1.4041, grad_fn=<NllLossBackward>)"
      ]
     },
     "execution_count": null,
     "metadata": {},
     "output_type": "execute_result"
    }
   ],
   "source": [
    "loss_func = nn.CrossEntropyLoss()\n",
    "loss_func(model(x), y)"
   ]
  },
  {
   "cell_type": "code",
   "execution_count": null,
   "id": "67dcaa47-1545-4174-b99d-4ea8517072e6",
   "metadata": {},
   "outputs": [],
   "source": [
    "learn = Learner(dls, model, loss_func)"
   ]
  },
  {
   "cell_type": "code",
   "execution_count": null,
   "id": "348c0336-3857-4ff9-bb9b-535524e18344",
   "metadata": {},
   "outputs": [
    {
     "data": {
      "text/html": [],
      "text/plain": [
       "<IPython.core.display.HTML object>"
      ]
     },
     "metadata": {},
     "output_type": "display_data"
    },
    {
     "name": "stdout",
     "output_type": "stream",
     "text": [
      "epoch =   0, train_loss = 611.240, val_loss = 75.780, accuracy = 0.60\n",
      "epoch =   1, train_loss = 611.240, val_loss = 75.780, accuracy = 0.60\n",
      "epoch =   2, train_loss = 611.240, val_loss = 75.780, accuracy = 0.60\n",
      "epoch =   3, train_loss = 611.240, val_loss = 75.780, accuracy = 0.60\n",
      "epoch =   4, train_loss = 611.240, val_loss = 75.780, accuracy = 0.60\n"
     ]
    }
   ],
   "source": [
    "learn.fit(5, lr=0.1)"
   ]
  },
  {
   "cell_type": "code",
   "execution_count": null,
   "id": "48e569f8-2525-4409-a49b-386c671e4ff7",
   "metadata": {},
   "outputs": [
    {
     "data": {
      "text/plain": [
       "[Parameter containing:\n",
       " tensor([[ 0.2348],\n",
       "         [-0.7490]], requires_grad=True),\n",
       " Parameter containing:\n",
       " tensor([[ 0.6674],\n",
       "         [-0.6521],\n",
       "         [ 0.0133]], requires_grad=True)]"
      ]
     },
     "execution_count": null,
     "metadata": {},
     "output_type": "execute_result"
    }
   ],
   "source": [
    "list(model.parameters())"
   ]
  }
 ],
 "metadata": {
  "kernelspec": {
   "display_name": "Python 3",
   "language": "python",
   "name": "python3"
  }
 },
 "nbformat": 4,
 "nbformat_minor": 5
}
