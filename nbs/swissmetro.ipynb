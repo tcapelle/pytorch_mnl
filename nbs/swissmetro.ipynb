{
 "cells": [
  {
   "cell_type": "markdown",
   "id": "df2988fd-a8c9-45c8-838c-dd4ceab3b167",
   "metadata": {},
   "source": [
    "# SwissMetro\n",
    "> Reproducing this example from [biogeme](From https://github.com/michelbierlaire/biogeme/blob/working/examples/notebooks/My%20first%20model.ipynb)"
   ]
  },
  {
   "cell_type": "code",
   "execution_count": null,
   "id": "a254475d-3374-4f47-9902-cc6c4a30b1c3",
   "metadata": {},
   "outputs": [],
   "source": [
    "from pathlib import Path\n",
    "import pandas as pd\n",
    "from fastcore.all import *\n",
    "from pytorch_mnl.core import *"
   ]
  },
  {
   "cell_type": "code",
   "execution_count": null,
   "id": "32b463f8-1e67-4b17-a04d-c70ae2552755",
   "metadata": {},
   "outputs": [],
   "source": [
    "PATH = Path('data')"
   ]
  },
  {
   "cell_type": "code",
   "execution_count": null,
   "id": "7bfa3db5-7ced-40e9-ad17-82cc3d315eb0",
   "metadata": {},
   "outputs": [
    {
     "data": {
      "text/html": [
       "<div>\n",
       "<style scoped>\n",
       "    .dataframe tbody tr th:only-of-type {\n",
       "        vertical-align: middle;\n",
       "    }\n",
       "\n",
       "    .dataframe tbody tr th {\n",
       "        vertical-align: top;\n",
       "    }\n",
       "\n",
       "    .dataframe thead th {\n",
       "        text-align: right;\n",
       "    }\n",
       "</style>\n",
       "<table border=\"1\" class=\"dataframe\">\n",
       "  <thead>\n",
       "    <tr style=\"text-align: right;\">\n",
       "      <th></th>\n",
       "      <th>GROUP</th>\n",
       "      <th>SURVEY</th>\n",
       "      <th>SP</th>\n",
       "      <th>ID</th>\n",
       "      <th>PURPOSE</th>\n",
       "      <th>FIRST</th>\n",
       "      <th>TICKET</th>\n",
       "      <th>WHO</th>\n",
       "      <th>LUGGAGE</th>\n",
       "      <th>AGE</th>\n",
       "      <th>...</th>\n",
       "      <th>TRAIN_TT</th>\n",
       "      <th>TRAIN_CO</th>\n",
       "      <th>TRAIN_HE</th>\n",
       "      <th>SM_TT</th>\n",
       "      <th>SM_CO</th>\n",
       "      <th>SM_HE</th>\n",
       "      <th>SM_SEATS</th>\n",
       "      <th>CAR_TT</th>\n",
       "      <th>CAR_CO</th>\n",
       "      <th>CHOICE</th>\n",
       "    </tr>\n",
       "  </thead>\n",
       "  <tbody>\n",
       "    <tr>\n",
       "      <th>0</th>\n",
       "      <td>2</td>\n",
       "      <td>0</td>\n",
       "      <td>1</td>\n",
       "      <td>1</td>\n",
       "      <td>1</td>\n",
       "      <td>0</td>\n",
       "      <td>1</td>\n",
       "      <td>1</td>\n",
       "      <td>0</td>\n",
       "      <td>3</td>\n",
       "      <td>...</td>\n",
       "      <td>112</td>\n",
       "      <td>48</td>\n",
       "      <td>120</td>\n",
       "      <td>63</td>\n",
       "      <td>52</td>\n",
       "      <td>20</td>\n",
       "      <td>0</td>\n",
       "      <td>117</td>\n",
       "      <td>65</td>\n",
       "      <td>2</td>\n",
       "    </tr>\n",
       "    <tr>\n",
       "      <th>1</th>\n",
       "      <td>2</td>\n",
       "      <td>0</td>\n",
       "      <td>1</td>\n",
       "      <td>1</td>\n",
       "      <td>1</td>\n",
       "      <td>0</td>\n",
       "      <td>1</td>\n",
       "      <td>1</td>\n",
       "      <td>0</td>\n",
       "      <td>3</td>\n",
       "      <td>...</td>\n",
       "      <td>103</td>\n",
       "      <td>48</td>\n",
       "      <td>30</td>\n",
       "      <td>60</td>\n",
       "      <td>49</td>\n",
       "      <td>10</td>\n",
       "      <td>0</td>\n",
       "      <td>117</td>\n",
       "      <td>84</td>\n",
       "      <td>2</td>\n",
       "    </tr>\n",
       "    <tr>\n",
       "      <th>2</th>\n",
       "      <td>2</td>\n",
       "      <td>0</td>\n",
       "      <td>1</td>\n",
       "      <td>1</td>\n",
       "      <td>1</td>\n",
       "      <td>0</td>\n",
       "      <td>1</td>\n",
       "      <td>1</td>\n",
       "      <td>0</td>\n",
       "      <td>3</td>\n",
       "      <td>...</td>\n",
       "      <td>130</td>\n",
       "      <td>48</td>\n",
       "      <td>60</td>\n",
       "      <td>67</td>\n",
       "      <td>58</td>\n",
       "      <td>30</td>\n",
       "      <td>0</td>\n",
       "      <td>117</td>\n",
       "      <td>52</td>\n",
       "      <td>2</td>\n",
       "    </tr>\n",
       "    <tr>\n",
       "      <th>3</th>\n",
       "      <td>2</td>\n",
       "      <td>0</td>\n",
       "      <td>1</td>\n",
       "      <td>1</td>\n",
       "      <td>1</td>\n",
       "      <td>0</td>\n",
       "      <td>1</td>\n",
       "      <td>1</td>\n",
       "      <td>0</td>\n",
       "      <td>3</td>\n",
       "      <td>...</td>\n",
       "      <td>103</td>\n",
       "      <td>40</td>\n",
       "      <td>30</td>\n",
       "      <td>63</td>\n",
       "      <td>52</td>\n",
       "      <td>20</td>\n",
       "      <td>0</td>\n",
       "      <td>72</td>\n",
       "      <td>52</td>\n",
       "      <td>2</td>\n",
       "    </tr>\n",
       "    <tr>\n",
       "      <th>4</th>\n",
       "      <td>2</td>\n",
       "      <td>0</td>\n",
       "      <td>1</td>\n",
       "      <td>1</td>\n",
       "      <td>1</td>\n",
       "      <td>0</td>\n",
       "      <td>1</td>\n",
       "      <td>1</td>\n",
       "      <td>0</td>\n",
       "      <td>3</td>\n",
       "      <td>...</td>\n",
       "      <td>130</td>\n",
       "      <td>36</td>\n",
       "      <td>60</td>\n",
       "      <td>63</td>\n",
       "      <td>42</td>\n",
       "      <td>20</td>\n",
       "      <td>0</td>\n",
       "      <td>90</td>\n",
       "      <td>84</td>\n",
       "      <td>2</td>\n",
       "    </tr>\n",
       "  </tbody>\n",
       "</table>\n",
       "<p>5 rows × 28 columns</p>\n",
       "</div>"
      ],
      "text/plain": [
       "   GROUP  SURVEY  SP  ID  PURPOSE  FIRST  TICKET  WHO  LUGGAGE  AGE  ...  \\\n",
       "0      2       0   1   1        1      0       1    1        0    3  ...   \n",
       "1      2       0   1   1        1      0       1    1        0    3  ...   \n",
       "2      2       0   1   1        1      0       1    1        0    3  ...   \n",
       "3      2       0   1   1        1      0       1    1        0    3  ...   \n",
       "4      2       0   1   1        1      0       1    1        0    3  ...   \n",
       "\n",
       "   TRAIN_TT  TRAIN_CO  TRAIN_HE  SM_TT  SM_CO  SM_HE  SM_SEATS  CAR_TT  \\\n",
       "0       112        48       120     63     52     20         0     117   \n",
       "1       103        48        30     60     49     10         0     117   \n",
       "2       130        48        60     67     58     30         0     117   \n",
       "3       103        40        30     63     52     20         0      72   \n",
       "4       130        36        60     63     42     20         0      90   \n",
       "\n",
       "   CAR_CO  CHOICE  \n",
       "0      65       2  \n",
       "1      84       2  \n",
       "2      52       2  \n",
       "3      52       2  \n",
       "4      84       2  \n",
       "\n",
       "[5 rows x 28 columns]"
      ]
     },
     "execution_count": null,
     "metadata": {},
     "output_type": "execute_result"
    }
   ],
   "source": [
    "df = pd.read_csv(PATH/'swissmetro.dat', '\\t')\n",
    "df.head()"
   ]
  },
  {
   "cell_type": "markdown",
   "id": "9ffa33e2-3831-4231-8ee6-1441621502e1",
   "metadata": {},
   "source": [
    "Remove some observations\n"
   ]
  },
  {
   "cell_type": "code",
   "execution_count": null,
   "id": "28072c0b-ee3f-4bf7-9367-d83a38e90b32",
   "metadata": {},
   "outputs": [],
   "source": [
    "exclude = df.query('(PURPOSE != 1 and PURPOSE != 3) or CHOICE == 0')"
   ]
  },
  {
   "cell_type": "code",
   "execution_count": null,
   "id": "f29f1a7a-1fa0-444c-808c-836424bfdb1a",
   "metadata": {},
   "outputs": [
    {
     "data": {
      "text/plain": [
       "6768"
      ]
     },
     "execution_count": null,
     "metadata": {},
     "output_type": "execute_result"
    }
   ],
   "source": [
    "df = df.drop(exclude.index)\n",
    "len(df)"
   ]
  },
  {
   "cell_type": "markdown",
   "id": "4ce6db7f-c343-4e11-89f1-9cebbee77d2c",
   "metadata": {},
   "source": [
    "Model Params"
   ]
  },
  {
   "cell_type": "code",
   "execution_count": null,
   "id": "48186611-2890-48c4-9b22-0bc150e9e811",
   "metadata": {},
   "outputs": [],
   "source": [
    "# ASC_CAR = Beta('ASC_CAR', 0, None, None, 0)\n",
    "# ASC_TRAIN = Beta('ASC_TRAIN', 0, None, None, 0)\n",
    "# ASC_SM = Beta('ASC_SM', 0, None, None, 1)\n",
    "# B_TIME = Beta('B_TIME', 0, None, None, 0)\n",
    "# B_COST = Beta('B_COST', 0, None, None, 0)"
   ]
  },
  {
   "cell_type": "markdown",
   "id": "3912107e-f6d9-45cd-af09-0dd2386b3dd6",
   "metadata": {},
   "source": [
    "Definition of new variables"
   ]
  },
  {
   "cell_type": "code",
   "execution_count": null,
   "id": "6936247c-bb30-4741-b8cd-5418dd6b4f45",
   "metadata": {},
   "outputs": [],
   "source": [
    "df = df.assign(SM_COST = df['SM_CO'] * (df['GA'] == 0),\n",
    "               TRAIN_COST = df['TRAIN_CO'] * (df['GA'] == 0))\n",
    "\n",
    "df = df.assign(CAR_AV_SP = df['CAR_AV'] * (df['SP'] != 0),\n",
    "               TRAIN_AV_SP = df['TRAIN_AV'] * (df['SP'] != 0),\n",
    "               TRAIN_TT_SCALED = df['TRAIN_TT'] / 100,\n",
    "               TRAIN_COST_SCALED = df['TRAIN_COST'] / 100,\n",
    "               SM_TT_SCALED = df['SM_TT'] / 100,\n",
    "               SM_COST_SCALED = df['SM_COST'] / 100,\n",
    "               CAR_TT_SCALED = df['CAR_TT'] / 100,\n",
    "               CAR_CO_SCALED = df['CAR_CO'] / 100)"
   ]
  },
  {
   "cell_type": "markdown",
   "id": "6cd185b2-6d03-4609-94b1-7cad17669bc4",
   "metadata": {},
   "source": [
    "## Utility Func\n",
    "> you have to define your model as a nn.Module"
   ]
  },
  {
   "cell_type": "code",
   "execution_count": null,
   "id": "6c20f6d4-5495-40c0-bc1c-9a4b8c5164f7",
   "metadata": {},
   "outputs": [],
   "source": [
    "# V1 = ASC_TRAIN + \\\n",
    "#      B_TIME * TRAIN_TT_SCALED + \\\n",
    "#      B_COST * TRAIN_COST_SCALED\n",
    "# V2 = ASC_SM + \\\n",
    "#      B_TIME * SM_TT_SCALED + \\\n",
    "#      B_COST * SM_COST_SCALED\n",
    "# V3 = ASC_CAR + \\\n",
    "#      B_TIME * CAR_TT_SCALED + \\\n",
    "#      B_COST * CAR_CO_SCALED"
   ]
  },
  {
   "cell_type": "markdown",
   "id": "fa7e4ef6-70d1-4134-b136-bc66ce0ef5eb",
   "metadata": {},
   "source": [
    "$$V = a + b\\cdot x $$"
   ]
  },
  {
   "cell_type": "code",
   "execution_count": null,
   "id": "0c16906c-025e-4e11-8e93-105f7c57949a",
   "metadata": {},
   "outputs": [],
   "source": [
    "import torch\n",
    "import torch.nn as nn\n",
    "\n",
    "class Model(nn.Module):\n",
    "    def __init__(self, n_choices=3, n_params=2):\n",
    "        super().__init__()\n",
    "        self.available = Availability(n_choices, inf=100)\n",
    "        \n",
    "        self.b = nn.Parameter(torch.zeros(n_params,1))\n",
    "        self.a = nn.Parameter(torch.zeros(n_choices-1, 1))\n",
    "        \n",
    "    def forward(self, x, av):\n",
    "        a = torch.cat([torch.zeros(1,1, device=x.device), self.a])\n",
    "        logits = (a + x @ self.b).squeeze()\n",
    "        return self.available(logits, av)\n",
    "    \n",
    "    def get_params(self):\n",
    "        return {'a': torch.cat([torch.zeros(1,1), self.a.cpu()]), 'b': self.b}"
   ]
  },
  {
   "cell_type": "code",
   "execution_count": null,
   "id": "b734fcbe-6a8d-4fb4-a09b-7531ee013070",
   "metadata": {},
   "outputs": [],
   "source": [
    "model = Model()"
   ]
  },
  {
   "cell_type": "code",
   "execution_count": null,
   "id": "bdaea3e3-4ff1-4d3e-acf7-34ec78d6c5f4",
   "metadata": {},
   "outputs": [
    {
     "data": {
      "text/plain": [
       "torch.Size([8, 3])"
      ]
     },
     "execution_count": null,
     "metadata": {},
     "output_type": "execute_result"
    }
   ],
   "source": [
    "model(torch.rand(8, 3, 2), torch.randint(0,1,(8,3))).shape"
   ]
  },
  {
   "cell_type": "code",
   "execution_count": null,
   "id": "3606eec3-a4b2-4392-9fd1-6c09683c704e",
   "metadata": {},
   "outputs": [],
   "source": [
    "x_cols =  ['SM_TT_SCALED',\n",
    "           'SM_COST_SCALED',\n",
    "           'TRAIN_TT_SCALED',\n",
    "           'TRAIN_COST_SCALED',\n",
    "           'CAR_TT_SCALED',\n",
    "           'CAR_CO_SCALED']\n",
    "\n",
    "av = ['SM_AV',\n",
    "      'TRAIN_AV_SP',\n",
    "      'CAR_AV_SP']"
   ]
  },
  {
   "cell_type": "code",
   "execution_count": null,
   "id": "d750c5d5-6c84-4ab7-b3fe-12dd3b51dd12",
   "metadata": {},
   "outputs": [
    {
     "data": {
      "text/plain": [
       "array([1, 0])"
      ]
     },
     "execution_count": null,
     "metadata": {},
     "output_type": "execute_result"
    }
   ],
   "source": [
    "df[av[2]].unique()"
   ]
  },
  {
   "cell_type": "code",
   "execution_count": null,
   "id": "a6c4f512-26e7-466e-bf7a-52283d0832d7",
   "metadata": {},
   "outputs": [],
   "source": [
    "target_map = {1: 1, 2: 0, 3:2}"
   ]
  },
  {
   "cell_type": "code",
   "execution_count": null,
   "id": "3c3ca6f0-d5f0-441d-aeb4-6254b6181f8d",
   "metadata": {},
   "outputs": [
    {
     "name": "stdout",
     "output_type": "stream",
     "text": [
      "{1: 1, 2: 0, 3: 2}\n"
     ]
    }
   ],
   "source": [
    "X, y, avs = prepare_data(df, x_cols=x_cols, target_col='CHOICE', av_cols=av, target_map=target_map)\n",
    "\n",
    "X = X.reshape(-1,3,2)"
   ]
  },
  {
   "cell_type": "code",
   "execution_count": null,
   "id": "c22adf8d-045d-4fe0-99cb-9b3648248d25",
   "metadata": {},
   "outputs": [
    {
     "data": {
      "text/plain": [
       "tensor([[0.6300, 0.5200],\n",
       "        [1.1200, 0.4800],\n",
       "        [1.1700, 0.6500]])"
      ]
     },
     "execution_count": null,
     "metadata": {},
     "output_type": "execute_result"
    }
   ],
   "source": [
    "X[0]"
   ]
  },
  {
   "cell_type": "code",
   "execution_count": null,
   "id": "9c8dc853-1a4b-4bcd-8323-0c76bdbec3d2",
   "metadata": {},
   "outputs": [
    {
     "data": {
      "text/plain": [
       "SM_TT_SCALED         0.63\n",
       "SM_COST_SCALED       0.52\n",
       "TRAIN_TT_SCALED      1.12\n",
       "TRAIN_COST_SCALED    0.48\n",
       "CAR_TT_SCALED        1.17\n",
       "CAR_CO_SCALED        0.65\n",
       "Name: 0, dtype: float64"
      ]
     },
     "execution_count": null,
     "metadata": {},
     "output_type": "execute_result"
    }
   ],
   "source": [
    "df[x_cols].iloc[0]"
   ]
  },
  {
   "cell_type": "code",
   "execution_count": null,
   "id": "75f6fda7-00d3-4f90-b741-c588f792f121",
   "metadata": {},
   "outputs": [],
   "source": [
    "dls = DataLoaders.from_Xy(X, y, avs, pct=None, batch_size=256, shuffle=True)"
   ]
  },
  {
   "cell_type": "code",
   "execution_count": null,
   "id": "70576098-87d8-4979-810c-68d3f972e0ee",
   "metadata": {},
   "outputs": [
    {
     "data": {
      "text/html": [
       "<div>\n",
       "<style scoped>\n",
       "    .dataframe tbody tr th:only-of-type {\n",
       "        vertical-align: middle;\n",
       "    }\n",
       "\n",
       "    .dataframe tbody tr th {\n",
       "        vertical-align: top;\n",
       "    }\n",
       "\n",
       "    .dataframe thead th {\n",
       "        text-align: right;\n",
       "    }\n",
       "</style>\n",
       "<table border=\"1\" class=\"dataframe\">\n",
       "  <thead>\n",
       "    <tr style=\"text-align: right;\">\n",
       "      <th></th>\n",
       "      <th>SM_TT_SCALED</th>\n",
       "      <th>SM_COST_SCALED</th>\n",
       "      <th>TRAIN_TT_SCALED</th>\n",
       "      <th>TRAIN_COST_SCALED</th>\n",
       "      <th>CAR_TT_SCALED</th>\n",
       "      <th>CAR_CO_SCALED</th>\n",
       "    </tr>\n",
       "  </thead>\n",
       "  <tbody>\n",
       "    <tr>\n",
       "      <th>0</th>\n",
       "      <td>0.63</td>\n",
       "      <td>0.52</td>\n",
       "      <td>1.12</td>\n",
       "      <td>0.48</td>\n",
       "      <td>1.17</td>\n",
       "      <td>0.65</td>\n",
       "    </tr>\n",
       "    <tr>\n",
       "      <th>1</th>\n",
       "      <td>0.60</td>\n",
       "      <td>0.49</td>\n",
       "      <td>1.03</td>\n",
       "      <td>0.48</td>\n",
       "      <td>1.17</td>\n",
       "      <td>0.84</td>\n",
       "    </tr>\n",
       "    <tr>\n",
       "      <th>2</th>\n",
       "      <td>0.67</td>\n",
       "      <td>0.58</td>\n",
       "      <td>1.30</td>\n",
       "      <td>0.48</td>\n",
       "      <td>1.17</td>\n",
       "      <td>0.52</td>\n",
       "    </tr>\n",
       "    <tr>\n",
       "      <th>3</th>\n",
       "      <td>0.63</td>\n",
       "      <td>0.52</td>\n",
       "      <td>1.03</td>\n",
       "      <td>0.40</td>\n",
       "      <td>0.72</td>\n",
       "      <td>0.52</td>\n",
       "    </tr>\n",
       "  </tbody>\n",
       "</table>\n",
       "</div>"
      ],
      "text/plain": [
       "   SM_TT_SCALED  SM_COST_SCALED  TRAIN_TT_SCALED  TRAIN_COST_SCALED  \\\n",
       "0          0.63            0.52             1.12               0.48   \n",
       "1          0.60            0.49             1.03               0.48   \n",
       "2          0.67            0.58             1.30               0.48   \n",
       "3          0.63            0.52             1.03               0.40   \n",
       "\n",
       "   CAR_TT_SCALED  CAR_CO_SCALED  \n",
       "0           1.17           0.65  \n",
       "1           1.17           0.84  \n",
       "2           1.17           0.52  \n",
       "3           0.72           0.52  "
      ]
     },
     "execution_count": null,
     "metadata": {},
     "output_type": "execute_result"
    }
   ],
   "source": [
    "df[x_cols].iloc[0:4]"
   ]
  },
  {
   "cell_type": "code",
   "execution_count": null,
   "id": "342b39f0-60a0-46d0-bc3e-fae376e58b62",
   "metadata": {},
   "outputs": [],
   "source": [
    "bx, by, bavs = dls.one_batch()"
   ]
  },
  {
   "cell_type": "code",
   "execution_count": null,
   "id": "7a10ea2f-e004-47a1-89ed-ddaea8577d65",
   "metadata": {},
   "outputs": [
    {
     "data": {
      "text/plain": [
       "(torch.Size([256, 3, 2]), torch.Size([256]), torch.Size([256, 3]))"
      ]
     },
     "execution_count": null,
     "metadata": {},
     "output_type": "execute_result"
    }
   ],
   "source": [
    "bx.shape, by.shape, bavs.shape"
   ]
  },
  {
   "cell_type": "markdown",
   "id": "a6822770-2b3e-400c-b9a2-93cfa185f65c",
   "metadata": {},
   "source": [
    "## CrossEntropy vs NLL"
   ]
  },
  {
   "cell_type": "code",
   "execution_count": null,
   "id": "a8c32d95-3c02-407b-a56f-b88868bd3831",
   "metadata": {},
   "outputs": [],
   "source": [
    "ce = nn.CrossEntropyLoss(reduction='sum')\n",
    "nll = nn.NLLLoss(reduction='sum')"
   ]
  },
  {
   "cell_type": "code",
   "execution_count": null,
   "id": "86a9512e-a4cc-493e-9de7-a31e7220b267",
   "metadata": {},
   "outputs": [],
   "source": [
    "out = model(bx, bavs)"
   ]
  },
  {
   "cell_type": "code",
   "execution_count": null,
   "id": "26e6572a-c84b-4baa-9938-a850931ec6af",
   "metadata": {},
   "outputs": [
    {
     "data": {
      "text/plain": [
       "(tensor(241.1037, grad_fn=<NllLossBackward>),\n",
       " tensor(241.1037, grad_fn=<NllLossBackward>))"
      ]
     },
     "execution_count": null,
     "metadata": {},
     "output_type": "execute_result"
    }
   ],
   "source": [
    "ce(out, by), nll(torch.log_softmax(out, dim=1), by)"
   ]
  },
  {
   "cell_type": "code",
   "execution_count": null,
   "id": "393d2531-6863-431a-9acd-4f7586ada5ba",
   "metadata": {},
   "outputs": [
    {
     "data": {
      "text/plain": [
       "tensor(241.1037, grad_fn=<SumBackward0>)"
      ]
     },
     "execution_count": null,
     "metadata": {},
     "output_type": "execute_result"
    }
   ],
   "source": [
    "(-out[range_of(out), by] + torch.log(out.exp().sum(1))).sum()"
   ]
  },
  {
   "cell_type": "markdown",
   "id": "3e5e9145-fe91-422d-8596-18a542d4da75",
   "metadata": {},
   "source": [
    "## Train"
   ]
  },
  {
   "cell_type": "code",
   "execution_count": null,
   "id": "67dcaa47-1545-4174-b99d-4ea8517072e6",
   "metadata": {},
   "outputs": [],
   "source": [
    "learn = Learner(dls, model, loss_func=ce)"
   ]
  },
  {
   "cell_type": "code",
   "execution_count": null,
   "id": "348c0336-3857-4ff9-bb9b-535524e18344",
   "metadata": {},
   "outputs": [
    {
     "name": "stdout",
     "output_type": "stream",
     "text": [
      "Starting fit model: \n",
      "Initial val_loss = 6964.661, accuracy = 0.60\n"
     ]
    },
    {
     "data": {
      "text/html": [
       "\n",
       "    <div>\n",
       "        <style>\n",
       "            /* Turns off some styling */\n",
       "            progress {\n",
       "                /* gets rid of default border in Firefox and Opera. */\n",
       "                border: none;\n",
       "                /* Needs to be in here for Safari polyfill so background images work as expected. */\n",
       "                background-size: auto;\n",
       "            }\n",
       "            .progress-bar-interrupted, .progress-bar-interrupted::-webkit-progress-bar {\n",
       "                background: #F44336;\n",
       "            }\n",
       "        </style>\n",
       "      <progress value='58' class='' max='100' style='width:300px; height:20px; vertical-align: middle;'></progress>\n",
       "      58.00% [58/100 00:05<00:04]\n",
       "    </div>\n",
       "    "
      ],
      "text/plain": [
       "<IPython.core.display.HTML object>"
      ]
     },
     "metadata": {},
     "output_type": "display_data"
    },
    {
     "name": "stdout",
     "output_type": "stream",
     "text": [
      "epoch =   0, train_loss = 5125.038, val_loss = 5964.606, accuracy = 0.66\n",
      "epoch =   1, train_loss = 5180.779, val_loss = 5955.054, accuracy = 0.66\n",
      "epoch =   2, train_loss = 5181.051, val_loss = 5954.031, accuracy = 0.66\n",
      "epoch =   3, train_loss = 5181.028, val_loss = 5953.849, accuracy = 0.66\n",
      "epoch =   4, train_loss = 5181.017, val_loss = 5953.809, accuracy = 0.66\n",
      "Epoch     6: reducing learning rate of group 0 to 1.0000e-03.\n",
      "epoch =   5, train_loss = 5181.014, val_loss = 5953.800, accuracy = 0.66\n",
      "epoch =   6, train_loss = 5722.342, val_loss = 5522.722, accuracy = 0.68\n",
      "epoch =   7, train_loss = 5459.286, val_loss = 5404.684, accuracy = 0.68\n",
      "epoch =   8, train_loss = 5386.609, val_loss = 5373.220, accuracy = 0.68\n",
      "epoch =   9, train_loss = 5366.045, val_loss = 5363.897, accuracy = 0.68\n",
      "epoch =  10, train_loss = 5359.583, val_loss = 5360.831, accuracy = 0.68\n",
      "epoch =  11, train_loss = 5357.367, val_loss = 5359.754, accuracy = 0.68\n",
      "epoch =  12, train_loss = 5356.553, val_loss = 5359.354, accuracy = 0.68\n",
      "epoch =  13, train_loss = 5356.235, val_loss = 5359.200, accuracy = 0.68\n",
      "epoch =  14, train_loss = 5356.102, val_loss = 5359.137, accuracy = 0.68\n",
      "epoch =  15, train_loss = 5356.045, val_loss = 5359.112, accuracy = 0.68\n",
      "Epoch    17: reducing learning rate of group 0 to 1.0000e-04.\n",
      "epoch =  16, train_loss = 5356.020, val_loss = 5359.102, accuracy = 0.68\n",
      "epoch =  17, train_loss = 5360.276, val_loss = 5354.419, accuracy = 0.68\n",
      "epoch =  18, train_loss = 5355.982, val_loss = 5350.533, accuracy = 0.68\n",
      "epoch =  19, train_loss = 5352.421, val_loss = 5347.313, accuracy = 0.68\n",
      "epoch =  20, train_loss = 5349.471, val_loss = 5344.647, accuracy = 0.68\n",
      "epoch =  21, train_loss = 5347.029, val_loss = 5342.442, accuracy = 0.68\n",
      "epoch =  22, train_loss = 5345.009, val_loss = 5340.617, accuracy = 0.68\n",
      "epoch =  23, train_loss = 5343.338, val_loss = 5339.109, accuracy = 0.68\n",
      "epoch =  24, train_loss = 5341.955, val_loss = 5337.861, accuracy = 0.68\n",
      "epoch =  25, train_loss = 5340.812, val_loss = 5336.828, accuracy = 0.68\n",
      "epoch =  26, train_loss = 5339.865, val_loss = 5335.973, accuracy = 0.68\n",
      "epoch =  27, train_loss = 5339.080, val_loss = 5335.264, accuracy = 0.68\n",
      "epoch =  28, train_loss = 5338.428, val_loss = 5334.675, accuracy = 0.68\n",
      "epoch =  29, train_loss = 5337.887, val_loss = 5334.185, accuracy = 0.68\n",
      "epoch =  30, train_loss = 5337.437, val_loss = 5333.778, accuracy = 0.68\n",
      "epoch =  31, train_loss = 5337.062, val_loss = 5333.438, accuracy = 0.68\n",
      "epoch =  32, train_loss = 5336.748, val_loss = 5333.153, accuracy = 0.68\n",
      "epoch =  33, train_loss = 5336.485, val_loss = 5332.915, accuracy = 0.68\n",
      "epoch =  34, train_loss = 5336.265, val_loss = 5332.715, accuracy = 0.68\n",
      "epoch =  35, train_loss = 5336.080, val_loss = 5332.546, accuracy = 0.68\n",
      "epoch =  36, train_loss = 5335.923, val_loss = 5332.404, accuracy = 0.68\n",
      "epoch =  37, train_loss = 5335.791, val_loss = 5332.283, accuracy = 0.68\n",
      "Epoch    39: reducing learning rate of group 0 to 1.0000e-05.\n",
      "epoch =  38, train_loss = 5335.679, val_loss = 5332.181, accuracy = 0.68\n",
      "epoch =  39, train_loss = 5332.552, val_loss = 5332.162, accuracy = 0.68\n",
      "epoch =  40, train_loss = 5332.533, val_loss = 5332.143, accuracy = 0.68\n",
      "Epoch    42: reducing learning rate of group 0 to 1.0000e-06.\n",
      "epoch =  41, train_loss = 5332.514, val_loss = 5332.125, accuracy = 0.68\n",
      "epoch =  42, train_loss = 5332.162, val_loss = 5332.123, accuracy = 0.68\n",
      "epoch =  43, train_loss = 5332.160, val_loss = 5332.121, accuracy = 0.68\n",
      "Epoch    45: reducing learning rate of group 0 to 1.0000e-07.\n",
      "epoch =  44, train_loss = 5332.158, val_loss = 5332.119, accuracy = 0.68\n",
      "epoch =  45, train_loss = 5332.123, val_loss = 5332.119, accuracy = 0.68\n",
      "INFO: Early stopping counter 1 of 10\n",
      "epoch =  46, train_loss = 5332.122, val_loss = 5332.119, accuracy = 0.68\n",
      "Epoch    48: reducing learning rate of group 0 to 1.0000e-08.\n",
      "epoch =  47, train_loss = 5332.122, val_loss = 5332.118, accuracy = 0.68\n",
      "INFO: Early stopping counter 2 of 10\n",
      "epoch =  48, train_loss = 5332.119, val_loss = 5332.118, accuracy = 0.68\n",
      "INFO: Early stopping counter 3 of 10\n",
      "epoch =  49, train_loss = 5332.119, val_loss = 5332.118, accuracy = 0.68\n",
      "INFO: Early stopping counter 4 of 10\n",
      "epoch =  50, train_loss = 5332.119, val_loss = 5332.118, accuracy = 0.68\n",
      "INFO: Early stopping counter 5 of 10\n",
      "epoch =  51, train_loss = 5332.119, val_loss = 5332.118, accuracy = 0.68\n",
      "epoch =  52, train_loss = 5332.119, val_loss = 5332.118, accuracy = 0.68\n",
      "INFO: Early stopping counter 6 of 10\n",
      "epoch =  53, train_loss = 5332.119, val_loss = 5332.118, accuracy = 0.68\n",
      "INFO: Early stopping counter 7 of 10\n",
      "epoch =  54, train_loss = 5332.119, val_loss = 5332.118, accuracy = 0.68\n",
      "INFO: Early stopping counter 8 of 10\n",
      "epoch =  55, train_loss = 5332.118, val_loss = 5332.118, accuracy = 0.68\n",
      "INFO: Early stopping counter 9 of 10\n",
      "epoch =  56, train_loss = 5332.119, val_loss = 5332.118, accuracy = 0.68\n",
      "epoch =  57, train_loss = 5332.118, val_loss = 5332.118, accuracy = 0.68\n",
      "INFO: Early stopping counter 10 of 10\n",
      "INFO: Early stopping\n"
     ]
    }
   ],
   "source": [
    "learn.fit(100, lr=0.01)"
   ]
  },
  {
   "cell_type": "code",
   "execution_count": null,
   "id": "c72d401f-b65d-4372-9f5f-a8c3a6023c65",
   "metadata": {},
   "outputs": [
    {
     "data": {
      "text/plain": [
       "{'a': tensor([[ 0.0000],\n",
       "         [-0.7280],\n",
       "         [-0.1308]], grad_fn=<CatBackward>),\n",
       " 'b': Parameter containing:\n",
       " tensor([[-1.2943],\n",
       "         [-1.0896]], requires_grad=True)}"
      ]
     },
     "execution_count": null,
     "metadata": {},
     "output_type": "execute_result"
    }
   ],
   "source": [
    "model.get_params()"
   ]
  },
  {
   "cell_type": "code",
   "execution_count": null,
   "id": "2bd28e3a-f5b4-4193-88a0-ca1f6d1790ba",
   "metadata": {},
   "outputs": [],
   "source": []
  }
 ],
 "metadata": {
  "kernelspec": {
   "display_name": "Python 3",
   "language": "python",
   "name": "python3"
  }
 },
 "nbformat": 4,
 "nbformat_minor": 5
}
