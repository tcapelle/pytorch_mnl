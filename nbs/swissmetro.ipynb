{
 "cells": [
  {
   "cell_type": "markdown",
   "id": "df2988fd-a8c9-45c8-838c-dd4ceab3b167",
   "metadata": {},
   "source": [
    "# SwissMetro\n",
    "> Reproducing this example from [biogeme](From https://github.com/michelbierlaire/biogeme/blob/working/examples/notebooks/My%20first%20model.ipynb)"
   ]
  },
  {
   "cell_type": "code",
   "execution_count": null,
   "id": "a254475d-3374-4f47-9902-cc6c4a30b1c3",
   "metadata": {},
   "outputs": [],
   "source": [
    "from pathlib import Path\n",
    "import pandas as pd\n",
    "from pytorch_mnl.core import *"
   ]
  },
  {
   "cell_type": "code",
   "execution_count": null,
   "id": "32b463f8-1e67-4b17-a04d-c70ae2552755",
   "metadata": {},
   "outputs": [],
   "source": [
    "PATH = Path('data')"
   ]
  },
  {
   "cell_type": "code",
   "execution_count": null,
   "id": "7bfa3db5-7ced-40e9-ad17-82cc3d315eb0",
   "metadata": {},
   "outputs": [
    {
     "data": {
      "text/html": [
       "<div>\n",
       "<style scoped>\n",
       "    .dataframe tbody tr th:only-of-type {\n",
       "        vertical-align: middle;\n",
       "    }\n",
       "\n",
       "    .dataframe tbody tr th {\n",
       "        vertical-align: top;\n",
       "    }\n",
       "\n",
       "    .dataframe thead th {\n",
       "        text-align: right;\n",
       "    }\n",
       "</style>\n",
       "<table border=\"1\" class=\"dataframe\">\n",
       "  <thead>\n",
       "    <tr style=\"text-align: right;\">\n",
       "      <th></th>\n",
       "      <th>GROUP</th>\n",
       "      <th>SURVEY</th>\n",
       "      <th>SP</th>\n",
       "      <th>ID</th>\n",
       "      <th>PURPOSE</th>\n",
       "      <th>FIRST</th>\n",
       "      <th>TICKET</th>\n",
       "      <th>WHO</th>\n",
       "      <th>LUGGAGE</th>\n",
       "      <th>AGE</th>\n",
       "      <th>...</th>\n",
       "      <th>TRAIN_TT</th>\n",
       "      <th>TRAIN_CO</th>\n",
       "      <th>TRAIN_HE</th>\n",
       "      <th>SM_TT</th>\n",
       "      <th>SM_CO</th>\n",
       "      <th>SM_HE</th>\n",
       "      <th>SM_SEATS</th>\n",
       "      <th>CAR_TT</th>\n",
       "      <th>CAR_CO</th>\n",
       "      <th>CHOICE</th>\n",
       "    </tr>\n",
       "  </thead>\n",
       "  <tbody>\n",
       "    <tr>\n",
       "      <th>0</th>\n",
       "      <td>2</td>\n",
       "      <td>0</td>\n",
       "      <td>1</td>\n",
       "      <td>1</td>\n",
       "      <td>1</td>\n",
       "      <td>0</td>\n",
       "      <td>1</td>\n",
       "      <td>1</td>\n",
       "      <td>0</td>\n",
       "      <td>3</td>\n",
       "      <td>...</td>\n",
       "      <td>112</td>\n",
       "      <td>48</td>\n",
       "      <td>120</td>\n",
       "      <td>63</td>\n",
       "      <td>52</td>\n",
       "      <td>20</td>\n",
       "      <td>0</td>\n",
       "      <td>117</td>\n",
       "      <td>65</td>\n",
       "      <td>2</td>\n",
       "    </tr>\n",
       "    <tr>\n",
       "      <th>1</th>\n",
       "      <td>2</td>\n",
       "      <td>0</td>\n",
       "      <td>1</td>\n",
       "      <td>1</td>\n",
       "      <td>1</td>\n",
       "      <td>0</td>\n",
       "      <td>1</td>\n",
       "      <td>1</td>\n",
       "      <td>0</td>\n",
       "      <td>3</td>\n",
       "      <td>...</td>\n",
       "      <td>103</td>\n",
       "      <td>48</td>\n",
       "      <td>30</td>\n",
       "      <td>60</td>\n",
       "      <td>49</td>\n",
       "      <td>10</td>\n",
       "      <td>0</td>\n",
       "      <td>117</td>\n",
       "      <td>84</td>\n",
       "      <td>2</td>\n",
       "    </tr>\n",
       "    <tr>\n",
       "      <th>2</th>\n",
       "      <td>2</td>\n",
       "      <td>0</td>\n",
       "      <td>1</td>\n",
       "      <td>1</td>\n",
       "      <td>1</td>\n",
       "      <td>0</td>\n",
       "      <td>1</td>\n",
       "      <td>1</td>\n",
       "      <td>0</td>\n",
       "      <td>3</td>\n",
       "      <td>...</td>\n",
       "      <td>130</td>\n",
       "      <td>48</td>\n",
       "      <td>60</td>\n",
       "      <td>67</td>\n",
       "      <td>58</td>\n",
       "      <td>30</td>\n",
       "      <td>0</td>\n",
       "      <td>117</td>\n",
       "      <td>52</td>\n",
       "      <td>2</td>\n",
       "    </tr>\n",
       "    <tr>\n",
       "      <th>3</th>\n",
       "      <td>2</td>\n",
       "      <td>0</td>\n",
       "      <td>1</td>\n",
       "      <td>1</td>\n",
       "      <td>1</td>\n",
       "      <td>0</td>\n",
       "      <td>1</td>\n",
       "      <td>1</td>\n",
       "      <td>0</td>\n",
       "      <td>3</td>\n",
       "      <td>...</td>\n",
       "      <td>103</td>\n",
       "      <td>40</td>\n",
       "      <td>30</td>\n",
       "      <td>63</td>\n",
       "      <td>52</td>\n",
       "      <td>20</td>\n",
       "      <td>0</td>\n",
       "      <td>72</td>\n",
       "      <td>52</td>\n",
       "      <td>2</td>\n",
       "    </tr>\n",
       "    <tr>\n",
       "      <th>4</th>\n",
       "      <td>2</td>\n",
       "      <td>0</td>\n",
       "      <td>1</td>\n",
       "      <td>1</td>\n",
       "      <td>1</td>\n",
       "      <td>0</td>\n",
       "      <td>1</td>\n",
       "      <td>1</td>\n",
       "      <td>0</td>\n",
       "      <td>3</td>\n",
       "      <td>...</td>\n",
       "      <td>130</td>\n",
       "      <td>36</td>\n",
       "      <td>60</td>\n",
       "      <td>63</td>\n",
       "      <td>42</td>\n",
       "      <td>20</td>\n",
       "      <td>0</td>\n",
       "      <td>90</td>\n",
       "      <td>84</td>\n",
       "      <td>2</td>\n",
       "    </tr>\n",
       "  </tbody>\n",
       "</table>\n",
       "<p>5 rows × 28 columns</p>\n",
       "</div>"
      ],
      "text/plain": [
       "   GROUP  SURVEY  SP  ID  PURPOSE  FIRST  TICKET  WHO  LUGGAGE  AGE  ...  \\\n",
       "0      2       0   1   1        1      0       1    1        0    3  ...   \n",
       "1      2       0   1   1        1      0       1    1        0    3  ...   \n",
       "2      2       0   1   1        1      0       1    1        0    3  ...   \n",
       "3      2       0   1   1        1      0       1    1        0    3  ...   \n",
       "4      2       0   1   1        1      0       1    1        0    3  ...   \n",
       "\n",
       "   TRAIN_TT  TRAIN_CO  TRAIN_HE  SM_TT  SM_CO  SM_HE  SM_SEATS  CAR_TT  \\\n",
       "0       112        48       120     63     52     20         0     117   \n",
       "1       103        48        30     60     49     10         0     117   \n",
       "2       130        48        60     67     58     30         0     117   \n",
       "3       103        40        30     63     52     20         0      72   \n",
       "4       130        36        60     63     42     20         0      90   \n",
       "\n",
       "   CAR_CO  CHOICE  \n",
       "0      65       2  \n",
       "1      84       2  \n",
       "2      52       2  \n",
       "3      52       2  \n",
       "4      84       2  \n",
       "\n",
       "[5 rows x 28 columns]"
      ]
     },
     "execution_count": null,
     "metadata": {},
     "output_type": "execute_result"
    }
   ],
   "source": [
    "df = pd.read_csv(PATH/'swissmetro.dat', '\\t')\n",
    "df.head()"
   ]
  },
  {
   "cell_type": "markdown",
   "id": "9ffa33e2-3831-4231-8ee6-1441621502e1",
   "metadata": {},
   "source": [
    "Remove some observations\n"
   ]
  },
  {
   "cell_type": "code",
   "execution_count": null,
   "id": "28072c0b-ee3f-4bf7-9367-d83a38e90b32",
   "metadata": {},
   "outputs": [],
   "source": [
    "exclude = df.query('(PURPOSE != 1 and PURPOSE != 3) or CHOICE == 0')"
   ]
  },
  {
   "cell_type": "code",
   "execution_count": null,
   "id": "f29f1a7a-1fa0-444c-808c-836424bfdb1a",
   "metadata": {},
   "outputs": [
    {
     "data": {
      "text/plain": [
       "6768"
      ]
     },
     "execution_count": null,
     "metadata": {},
     "output_type": "execute_result"
    }
   ],
   "source": [
    "df = df.drop(exclude.index)\n",
    "len(df)"
   ]
  },
  {
   "cell_type": "markdown",
   "id": "4ce6db7f-c343-4e11-89f1-9cebbee77d2c",
   "metadata": {},
   "source": [
    "Model Params"
   ]
  },
  {
   "cell_type": "code",
   "execution_count": null,
   "id": "48186611-2890-48c4-9b22-0bc150e9e811",
   "metadata": {},
   "outputs": [],
   "source": [
    "# ASC_CAR = Beta('ASC_CAR', 0, None, None, 0)\n",
    "# ASC_TRAIN = Beta('ASC_TRAIN', 0, None, None, 0)\n",
    "# ASC_SM = Beta('ASC_SM', 0, None, None, 1)\n",
    "# B_TIME = Beta('B_TIME', 0, None, None, 0)\n",
    "# B_COST = Beta('B_COST', 0, None, None, 0)"
   ]
  },
  {
   "cell_type": "markdown",
   "id": "3912107e-f6d9-45cd-af09-0dd2386b3dd6",
   "metadata": {},
   "source": [
    "Definition of new variables"
   ]
  },
  {
   "cell_type": "code",
   "execution_count": null,
   "id": "6936247c-bb30-4741-b8cd-5418dd6b4f45",
   "metadata": {},
   "outputs": [],
   "source": [
    "df = df.assign(SM_COST = df['SM_CO'] * (df['GA'] == 0),\n",
    "               TRAIN_COST = df['TRAIN_CO'] * (df['GA'] == 0))\n",
    "\n",
    "df = df.assign(CAR_AV_SP = df['CAR_AV'] * (df['SP'] != 0),\n",
    "               TRAIN_AV_SP = df['TRAIN_AV'] * (df['SP'] != 0),\n",
    "               TRAIN_TT_SCALED = df['TRAIN_TT'] / 100,\n",
    "               TRAIN_COST_SCALED = df['TRAIN_COST'] / 100,\n",
    "               SM_TT_SCALED = df['SM_TT'] / 100,\n",
    "               SM_COST_SCALED = df['SM_COST'] / 100,\n",
    "               CAR_TT_SCALED = df['CAR_TT'] / 100,\n",
    "               CAR_CO_SCALED = df['CAR_CO'] / 100)"
   ]
  },
  {
   "cell_type": "markdown",
   "id": "6cd185b2-6d03-4609-94b1-7cad17669bc4",
   "metadata": {},
   "source": [
    "## Utility Func\n",
    "> you have to define your model as a nn.Module"
   ]
  },
  {
   "cell_type": "code",
   "execution_count": null,
   "id": "6c20f6d4-5495-40c0-bc1c-9a4b8c5164f7",
   "metadata": {},
   "outputs": [],
   "source": [
    "# V1 = ASC_TRAIN + \\\n",
    "#      B_TIME * TRAIN_TT_SCALED + \\\n",
    "#      B_COST * TRAIN_COST_SCALED\n",
    "# V2 = ASC_SM + \\\n",
    "#      B_TIME * SM_TT_SCALED + \\\n",
    "#      B_COST * SM_COST_SCALED\n",
    "# V3 = ASC_CAR + \\\n",
    "#      B_TIME * CAR_TT_SCALED + \\\n",
    "#      B_COST * CAR_CO_SCALED"
   ]
  },
  {
   "cell_type": "markdown",
   "id": "fa7e4ef6-70d1-4134-b136-bc66ce0ef5eb",
   "metadata": {},
   "source": [
    "$$V = a + b\\cdot x $$"
   ]
  },
  {
   "cell_type": "code",
   "execution_count": null,
   "id": "0c16906c-025e-4e11-8e93-105f7c57949a",
   "metadata": {},
   "outputs": [],
   "source": [
    "import torch\n",
    "import torch.nn as nn\n",
    "\n",
    "class Model(nn.Module):\n",
    "    def __init__(self, n_choices=3, n_params=2):\n",
    "        super().__init__()\n",
    "        self.available = Availability(n_choices)\n",
    "        \n",
    "        self.b = nn.Parameter(torch.zeros(n_params,1))\n",
    "#         self.a = torch.cat([torch.zeros(1,1), #first param set to zero\n",
    "#                             nn.Parameter(torch.zeros(n_choices-1, 1))])\n",
    "        self.a = nn.Parameter(torch.zeros(n_choices-1, 1))\n",
    "        \n",
    "    def forward(self, x, av):\n",
    "        a = torch.cat([torch.zeros(1,1, device=x.device), self.a])\n",
    "        logits = (a + x[:,:,:2] @ self.b).squeeze()\n",
    "        return self.available(logits, av)"
   ]
  },
  {
   "cell_type": "code",
   "execution_count": null,
   "id": "b734fcbe-6a8d-4fb4-a09b-7531ee013070",
   "metadata": {},
   "outputs": [],
   "source": [
    "model = Model()"
   ]
  },
  {
   "cell_type": "code",
   "execution_count": null,
   "id": "bdaea3e3-4ff1-4d3e-acf7-34ec78d6c5f4",
   "metadata": {},
   "outputs": [
    {
     "data": {
      "text/plain": [
       "torch.Size([8, 3])"
      ]
     },
     "execution_count": null,
     "metadata": {},
     "output_type": "execute_result"
    }
   ],
   "source": [
    "model(torch.rand(8, 3, 3), torch.randint(0,1,(8,3))).shape"
   ]
  },
  {
   "cell_type": "code",
   "execution_count": null,
   "id": "3606eec3-a4b2-4392-9fd1-6c09683c704e",
   "metadata": {},
   "outputs": [],
   "source": [
    "x_cols =  ['SM_TT_SCALED',\n",
    "           'SM_COST_SCALED',\n",
    "           'TRAIN_TT_SCALED',\n",
    "           'TRAIN_COST_SCALED',\n",
    "           'CAR_TT_SCALED',\n",
    "           'CAR_CO_SCALED']\n",
    "\n",
    "av = ['SM_AV',\n",
    "      'TRAIN_AV_SP',\n",
    "      'CAR_AV_SP']"
   ]
  },
  {
   "cell_type": "code",
   "execution_count": null,
   "id": "3c3ca6f0-d5f0-441d-aeb4-6254b6181f8d",
   "metadata": {},
   "outputs": [],
   "source": [
    "X, y, avs = prepare_data(df, x_cols=x_cols, target_col='CHOICE', av_cols=av)\n",
    "\n",
    "X = X.reshape(-1,3,2)"
   ]
  },
  {
   "cell_type": "code",
   "execution_count": null,
   "id": "f6135d7c-3e7c-4fb3-8637-a3a601e99ac8",
   "metadata": {},
   "outputs": [
    {
     "data": {
      "text/plain": [
       "torch.Size([6768, 3])"
      ]
     },
     "execution_count": null,
     "metadata": {},
     "output_type": "execute_result"
    }
   ],
   "source": [
    "avs.shape"
   ]
  },
  {
   "cell_type": "code",
   "execution_count": null,
   "id": "f78d0249-7311-4cfb-9099-203d03337c38",
   "metadata": {},
   "outputs": [
    {
     "data": {
      "text/plain": [
       "torch.Size([6768, 3, 2])"
      ]
     },
     "execution_count": null,
     "metadata": {},
     "output_type": "execute_result"
    }
   ],
   "source": [
    "X.shape"
   ]
  },
  {
   "cell_type": "code",
   "execution_count": null,
   "id": "75f6fda7-00d3-4f90-b741-c588f792f121",
   "metadata": {},
   "outputs": [],
   "source": [
    "dls = DataLoaders.from_Xy(X, y, avs, pct=None, batch_size=64)"
   ]
  },
  {
   "cell_type": "code",
   "execution_count": null,
   "id": "342b39f0-60a0-46d0-bc3e-fae376e58b62",
   "metadata": {},
   "outputs": [],
   "source": [
    "bx,by, bavs = dls.one_batch()"
   ]
  },
  {
   "cell_type": "code",
   "execution_count": null,
   "id": "7a10ea2f-e004-47a1-89ed-ddaea8577d65",
   "metadata": {},
   "outputs": [
    {
     "data": {
      "text/plain": [
       "torch.Size([64, 3, 2])"
      ]
     },
     "execution_count": null,
     "metadata": {},
     "output_type": "execute_result"
    }
   ],
   "source": [
    "bx.shape"
   ]
  },
  {
   "cell_type": "code",
   "execution_count": null,
   "id": "83a884ea-6bc5-4ce9-880a-ca657dc22ce5",
   "metadata": {},
   "outputs": [
    {
     "data": {
      "text/plain": [
       "(tensor([0, 0, 0, 0, 0, 0, 0, 1, 0, 0, 0, 0, 0, 0, 0, 0, 0, 0, 0, 0, 0, 0, 0, 0,\n",
       "         0, 0, 0, 0, 0, 0, 0, 0, 0, 0, 0, 0, 0, 0, 0, 0, 0, 0, 0, 0, 0, 0, 0, 0,\n",
       "         0, 0, 0, 0, 0, 0, 0, 0, 0, 0, 0, 0, 1, 0, 0, 0]),\n",
       " tensor([0, 0, 0, 0, 0, 0, 0, 0, 0, 0, 0, 0, 0, 0, 0, 0, 0, 0, 0, 0, 0, 0, 0, 0,\n",
       "         0, 0, 0, 0, 0, 0, 0, 0, 0, 0, 0, 0, 0, 0, 0, 0, 0, 0, 0, 0, 0, 0, 0, 0,\n",
       "         0, 0, 0, 0, 0, 0, 0, 0, 0, 0, 0, 0, 0, 0, 0, 0]))"
      ]
     },
     "execution_count": null,
     "metadata": {},
     "output_type": "execute_result"
    }
   ],
   "source": [
    "by, model(bx, bavs).argmax(1)"
   ]
  },
  {
   "cell_type": "code",
   "execution_count": null,
   "id": "67dcaa47-1545-4174-b99d-4ea8517072e6",
   "metadata": {},
   "outputs": [],
   "source": [
    "learn = Learner(dls, model)"
   ]
  },
  {
   "cell_type": "code",
   "execution_count": null,
   "id": "348c0336-3857-4ff9-bb9b-535524e18344",
   "metadata": {},
   "outputs": [
    {
     "data": {
      "text/html": [
       "\n",
       "    <div>\n",
       "        <style>\n",
       "            /* Turns off some styling */\n",
       "            progress {\n",
       "                /* gets rid of default border in Firefox and Opera. */\n",
       "                border: none;\n",
       "                /* Needs to be in here for Safari polyfill so background images work as expected. */\n",
       "                background-size: auto;\n",
       "            }\n",
       "            .progress-bar-interrupted, .progress-bar-interrupted::-webkit-progress-bar {\n",
       "                background: #F44336;\n",
       "            }\n",
       "        </style>\n",
       "      <progress value='32' class='' max='100' style='width:300px; height:20px; vertical-align: middle;'></progress>\n",
       "      32.00% [32/100 00:04<00:09]\n",
       "    </div>\n",
       "    "
      ],
      "text/plain": [
       "<IPython.core.display.HTML object>"
      ]
     },
     "metadata": {},
     "output_type": "display_data"
    },
    {
     "name": "stdout",
     "output_type": "stream",
     "text": [
      "epoch =   0, train_loss = 87.617, val_loss = 85.678, accuracy = 0.67\n",
      "epoch =   1, train_loss = 84.056, val_loss = 84.944, accuracy = 0.68\n",
      "epoch =   2, train_loss = 83.772, val_loss = 84.667, accuracy = 0.68\n",
      "epoch =   3, train_loss = 83.638, val_loss = 84.547, accuracy = 0.68\n",
      "epoch =   4, train_loss = 83.577, val_loss = 84.492, accuracy = 0.68\n",
      "Epoch     6: reducing learning rate of group 0 to 1.0000e-02.\n",
      "epoch =   5, train_loss = 83.549, val_loss = 84.465, accuracy = 0.68\n",
      "epoch =   6, train_loss = 84.417, val_loss = 84.227, accuracy = 0.68\n",
      "epoch =   7, train_loss = 84.213, val_loss = 84.059, accuracy = 0.68\n",
      "Epoch     9: reducing learning rate of group 0 to 1.0000e-03.\n",
      "epoch =   8, train_loss = 84.069, val_loss = 83.942, accuracy = 0.68\n",
      "epoch =   9, train_loss = 83.945, val_loss = 83.931, accuracy = 0.68\n",
      "epoch =  10, train_loss = 83.934, val_loss = 83.920, accuracy = 0.68\n",
      "Epoch    12: reducing learning rate of group 0 to 1.0000e-04.\n",
      "epoch =  11, train_loss = 83.923, val_loss = 83.910, accuracy = 0.68\n",
      "epoch =  12, train_loss = 83.910, val_loss = 83.909, accuracy = 0.68\n",
      "epoch =  13, train_loss = 83.909, val_loss = 83.908, accuracy = 0.68\n",
      "Epoch    15: reducing learning rate of group 0 to 1.0000e-05.\n",
      "epoch =  14, train_loss = 83.908, val_loss = 83.907, accuracy = 0.68\n",
      "epoch =  15, train_loss = 83.907, val_loss = 83.906, accuracy = 0.68\n",
      "epoch =  16, train_loss = 83.906, val_loss = 83.906, accuracy = 0.68\n",
      "Epoch    18: reducing learning rate of group 0 to 1.0000e-06.\n",
      "epoch =  17, train_loss = 83.906, val_loss = 83.906, accuracy = 0.68\n",
      "epoch =  18, train_loss = 83.906, val_loss = 83.906, accuracy = 0.68\n",
      "epoch =  19, train_loss = 83.906, val_loss = 83.906, accuracy = 0.68\n",
      "Epoch    21: reducing learning rate of group 0 to 1.0000e-07.\n",
      "epoch =  20, train_loss = 83.906, val_loss = 83.906, accuracy = 0.68\n",
      "epoch =  21, train_loss = 83.906, val_loss = 83.906, accuracy = 0.68\n",
      "epoch =  22, train_loss = 83.906, val_loss = 83.906, accuracy = 0.68\n",
      "Epoch    24: reducing learning rate of group 0 to 1.0000e-08.\n",
      "epoch =  23, train_loss = 83.906, val_loss = 83.906, accuracy = 0.68\n",
      "epoch =  24, train_loss = 83.906, val_loss = 83.906, accuracy = 0.68\n",
      "epoch =  25, train_loss = 83.906, val_loss = 83.906, accuracy = 0.68\n",
      "epoch =  26, train_loss = 83.906, val_loss = 83.906, accuracy = 0.68\n",
      "epoch =  27, train_loss = 83.906, val_loss = 83.906, accuracy = 0.68\n",
      "epoch =  28, train_loss = 83.906, val_loss = 83.906, accuracy = 0.68\n",
      "epoch =  29, train_loss = 83.906, val_loss = 83.906, accuracy = 0.68\n",
      "epoch =  30, train_loss = 83.906, val_loss = 83.906, accuracy = 0.68\n",
      "INFO: Early stopping counter 1 of 2\n",
      "epoch =  31, train_loss = 83.906, val_loss = 83.906, accuracy = 0.68\n",
      "INFO: Early stopping counter 2 of 2\n",
      "INFO: Early stopping\n"
     ]
    }
   ],
   "source": [
    "learn.fit(100, lr=0.1)"
   ]
  },
  {
   "cell_type": "code",
   "execution_count": null,
   "id": "48e569f8-2525-4409-a49b-386c671e4ff7",
   "metadata": {},
   "outputs": [
    {
     "data": {
      "text/plain": [
       "Parameter containing:\n",
       "tensor([[-0.8573],\n",
       "        [-0.0261]], requires_grad=True)"
      ]
     },
     "execution_count": null,
     "metadata": {},
     "output_type": "execute_result"
    }
   ],
   "source": [
    "model.a"
   ]
  },
  {
   "cell_type": "code",
   "execution_count": null,
   "id": "15e7a5c9-f8e1-475d-8a70-af9942969e1d",
   "metadata": {},
   "outputs": [
    {
     "data": {
      "text/plain": [
       "Parameter containing:\n",
       "tensor([[-1.2013],\n",
       "        [-0.8977]], requires_grad=True)"
      ]
     },
     "execution_count": null,
     "metadata": {},
     "output_type": "execute_result"
    }
   ],
   "source": [
    "model.b"
   ]
  }
 ],
 "metadata": {
  "kernelspec": {
   "display_name": "Python 3",
   "language": "python",
   "name": "python3"
  }
 },
 "nbformat": 4,
 "nbformat_minor": 5
}
