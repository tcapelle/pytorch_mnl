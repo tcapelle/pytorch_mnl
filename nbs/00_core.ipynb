{
 "cells": [
  {
   "cell_type": "code",
   "execution_count": null,
   "metadata": {},
   "outputs": [],
   "source": [
    "# default_exp core"
   ]
  },
  {
   "cell_type": "markdown",
   "metadata": {},
   "source": [
    "# The foundations\n",
    "\n",
    "> Let's try to replicate the standard usage of MNL frameworks\n",
    "\n",
    "We will try to implement a basic MNL package to compare against biogeme/others... let's start from this [blog post](https://aaronkub.com/2020/02/12/logistic-regression-with-pytorch.html)"
   ]
  },
  {
   "cell_type": "code",
   "execution_count": null,
   "metadata": {},
   "outputs": [],
   "source": [
    "#export\n",
    "import random\n",
    "\n",
    "import pandas as pd\n",
    "import numpy as np\n",
    "import torch\n",
    "import torch.nn as nn\n",
    "import torch.nn.functional as F\n",
    "from torch.utils.data import DataLoader, TensorDataset\n",
    "from torch.optim.lr_scheduler import ReduceLROnPlateau\n",
    "\n",
    "from fastprogress import progress_bar, master_bar\n",
    "from fastcore.all import *"
   ]
  },
  {
   "cell_type": "markdown",
   "metadata": {},
   "source": [
    "grab some data"
   ]
  },
  {
   "cell_type": "code",
   "execution_count": null,
   "metadata": {},
   "outputs": [],
   "source": [
    "data = pd.read_csv(\"./data/Iris.csv\").drop(\"Id\", axis=1)\n",
    "\n",
    "X_numpy = data.drop(\"Species\", axis=1).values\n",
    "\n",
    "target_map = {\n",
    "    val: index for index, val in enumerate(data.Species.unique())\n",
    "}\n",
    "y_numpy = data.Species.map(target_map).values\n",
    "\n",
    "X = torch.tensor(X_numpy, dtype=torch.float32)\n",
    "y = torch.tensor(y_numpy)"
   ]
  },
  {
   "cell_type": "code",
   "execution_count": null,
   "metadata": {},
   "outputs": [
    {
     "data": {
      "text/html": [
       "<div>\n",
       "<style scoped>\n",
       "    .dataframe tbody tr th:only-of-type {\n",
       "        vertical-align: middle;\n",
       "    }\n",
       "\n",
       "    .dataframe tbody tr th {\n",
       "        vertical-align: top;\n",
       "    }\n",
       "\n",
       "    .dataframe thead th {\n",
       "        text-align: right;\n",
       "    }\n",
       "</style>\n",
       "<table border=\"1\" class=\"dataframe\">\n",
       "  <thead>\n",
       "    <tr style=\"text-align: right;\">\n",
       "      <th></th>\n",
       "      <th>SepalLengthCm</th>\n",
       "      <th>SepalWidthCm</th>\n",
       "      <th>PetalLengthCm</th>\n",
       "      <th>PetalWidthCm</th>\n",
       "      <th>Species</th>\n",
       "    </tr>\n",
       "  </thead>\n",
       "  <tbody>\n",
       "    <tr>\n",
       "      <th>0</th>\n",
       "      <td>5.1</td>\n",
       "      <td>3.5</td>\n",
       "      <td>1.4</td>\n",
       "      <td>0.2</td>\n",
       "      <td>Iris-setosa</td>\n",
       "    </tr>\n",
       "    <tr>\n",
       "      <th>1</th>\n",
       "      <td>4.9</td>\n",
       "      <td>3.0</td>\n",
       "      <td>1.4</td>\n",
       "      <td>0.2</td>\n",
       "      <td>Iris-setosa</td>\n",
       "    </tr>\n",
       "    <tr>\n",
       "      <th>2</th>\n",
       "      <td>4.7</td>\n",
       "      <td>3.2</td>\n",
       "      <td>1.3</td>\n",
       "      <td>0.2</td>\n",
       "      <td>Iris-setosa</td>\n",
       "    </tr>\n",
       "    <tr>\n",
       "      <th>3</th>\n",
       "      <td>4.6</td>\n",
       "      <td>3.1</td>\n",
       "      <td>1.5</td>\n",
       "      <td>0.2</td>\n",
       "      <td>Iris-setosa</td>\n",
       "    </tr>\n",
       "    <tr>\n",
       "      <th>4</th>\n",
       "      <td>5.0</td>\n",
       "      <td>3.6</td>\n",
       "      <td>1.4</td>\n",
       "      <td>0.2</td>\n",
       "      <td>Iris-setosa</td>\n",
       "    </tr>\n",
       "  </tbody>\n",
       "</table>\n",
       "</div>"
      ],
      "text/plain": [
       "   SepalLengthCm  SepalWidthCm  PetalLengthCm  PetalWidthCm      Species\n",
       "0            5.1           3.5            1.4           0.2  Iris-setosa\n",
       "1            4.9           3.0            1.4           0.2  Iris-setosa\n",
       "2            4.7           3.2            1.3           0.2  Iris-setosa\n",
       "3            4.6           3.1            1.5           0.2  Iris-setosa\n",
       "4            5.0           3.6            1.4           0.2  Iris-setosa"
      ]
     },
     "execution_count": null,
     "metadata": {},
     "output_type": "execute_result"
    }
   ],
   "source": [
    "data.head()"
   ]
  },
  {
   "cell_type": "code",
   "execution_count": null,
   "metadata": {},
   "outputs": [
    {
     "data": {
      "text/plain": [
       "{'Iris-setosa': 0, 'Iris-versicolor': 1, 'Iris-virginica': 2}"
      ]
     },
     "execution_count": null,
     "metadata": {},
     "output_type": "execute_result"
    }
   ],
   "source": [
    "target_map"
   ]
  },
  {
   "cell_type": "code",
   "execution_count": null,
   "metadata": {},
   "outputs": [],
   "source": [
    "#export\n",
    "def prepare_data(data, x_cols=None, target_col=None, av_cols=None):\n",
    "    \"This is far from optimal, as we shuould be reading values lazily\"\n",
    "    target_col = ifnone(target_col, list(data.columns)[-1])\n",
    "    x_cols = [col for col in ifnone(x_cols, list(data.columns)) if col!=target_col]\n",
    "    X_numpy = data.loc[:, x_cols].values\n",
    "    target_map = {\n",
    "        val: index for index, val in enumerate(data.loc[:,target_col].unique())\n",
    "    }\n",
    "    print(target_map)\n",
    "    y_numpy = data.loc[:,target_col].map(target_map).values\n",
    "    \n",
    "    X = torch.tensor(X_numpy, dtype=torch.float32)\n",
    "    y = torch.tensor(y_numpy)\n",
    "    if av_cols is None:\n",
    "        return X, y, torch.ones(len(X), len(target_map))\n",
    "    else:\n",
    "        return X, y, torch.tensor(data.loc[:, av_cols].values, dtype=torch.float32)"
   ]
  },
  {
   "cell_type": "code",
   "execution_count": null,
   "metadata": {},
   "outputs": [
    {
     "name": "stdout",
     "output_type": "stream",
     "text": [
      "{'Iris-setosa': 0, 'Iris-versicolor': 1, 'Iris-virginica': 2}\n"
     ]
    }
   ],
   "source": [
    "X, y, available_choices = prepare_data(data)"
   ]
  },
  {
   "cell_type": "code",
   "execution_count": null,
   "metadata": {},
   "outputs": [],
   "source": [
    "ds = TensorDataset(X, y, available_choices)"
   ]
  },
  {
   "cell_type": "code",
   "execution_count": null,
   "metadata": {},
   "outputs": [
    {
     "data": {
      "text/plain": [
       "(tensor([[5.1000, 3.5000, 1.4000, 0.2000],\n",
       "         [4.9000, 3.0000, 1.4000, 0.2000],\n",
       "         [4.7000, 3.2000, 1.3000, 0.2000],\n",
       "         [4.6000, 3.1000, 1.5000, 0.2000],\n",
       "         [5.0000, 3.6000, 1.4000, 0.2000]]),\n",
       " tensor([0, 0, 0, 0, 0]),\n",
       " tensor([[1., 1., 1.],\n",
       "         [1., 1., 1.],\n",
       "         [1., 1., 1.],\n",
       "         [1., 1., 1.],\n",
       "         [1., 1., 1.]]))"
      ]
     },
     "execution_count": null,
     "metadata": {},
     "output_type": "execute_result"
    }
   ],
   "source": [
    "X[0:5], y[0:5], available_choices[0:5]"
   ]
  },
  {
   "cell_type": "code",
   "execution_count": null,
   "metadata": {},
   "outputs": [
    {
     "data": {
      "text/plain": [
       "(150, 150)"
      ]
     },
     "execution_count": null,
     "metadata": {},
     "output_type": "execute_result"
    }
   ],
   "source": [
    "len(X), len(y)"
   ]
  },
  {
   "cell_type": "markdown",
   "metadata": {},
   "source": [
    "## Train/Test split"
   ]
  },
  {
   "cell_type": "code",
   "execution_count": null,
   "metadata": {},
   "outputs": [],
   "source": [
    "random.shuffle(range_of(X))"
   ]
  },
  {
   "cell_type": "code",
   "execution_count": null,
   "metadata": {},
   "outputs": [],
   "source": [
    "#export\n",
    "def train_valid_split(*tensors, pct=0.2, shuffle=True):\n",
    "    assert len(tensors[0]) == len(tensors[1]), \"X and y don't have the same number of elements\"\n",
    "    indices = range_of(tensors[0])\n",
    "    if shuffle:\n",
    "        random.shuffle(indices)\n",
    "    n = len(tensors[0])\n",
    "    n_train = int(n * (1-0.2))\n",
    "    train_tensors = tuple(t[indices[:n_train]] for t in tensors)\n",
    "    valid_tensors = tuple(t[indices[n_train:]] for t in tensors)\n",
    "    return train_tensors, valid_tensors"
   ]
  },
  {
   "cell_type": "code",
   "execution_count": null,
   "metadata": {},
   "outputs": [],
   "source": [
    "_X = L([0,1,2,3,4,5,6,7,8,9])\n",
    "_y = L('a,b,c,d,e,f,g,h,i,j'.split(','))\n",
    "\n",
    "test_eq(train_valid_split(_X,_y, shuffle=False)[0][0], [0,1,2,3,4,5,6,7])\n",
    "test_eq(train_valid_split(_X,_y, shuffle=False)[1][1], ['i','j'])"
   ]
  },
  {
   "cell_type": "markdown",
   "metadata": {},
   "source": [
    "## Model"
   ]
  },
  {
   "cell_type": "code",
   "execution_count": null,
   "metadata": {},
   "outputs": [],
   "source": [
    "#export\n",
    "class Availability(nn.Module):\n",
    "    \n",
    "    def __init__(self, n_choices, inf=1e6):\n",
    "        super().__init__()\n",
    "        store_attr()\n",
    "        \n",
    "    def forward(self, x, av):\n",
    "        return x + (av - 1)*self.inf "
   ]
  },
  {
   "cell_type": "code",
   "execution_count": null,
   "metadata": {},
   "outputs": [],
   "source": [
    "av = Availability(3)"
   ]
  },
  {
   "cell_type": "code",
   "execution_count": null,
   "metadata": {},
   "outputs": [
    {
     "data": {
      "text/plain": [
       "tensor([0.2689, 0.7311, 0.0000])"
      ]
     },
     "execution_count": null,
     "metadata": {},
     "output_type": "execute_result"
    }
   ],
   "source": [
    "F.softmax(av(torch.tensor([1,2,3]), torch.tensor([1,1,0])))"
   ]
  },
  {
   "cell_type": "code",
   "execution_count": null,
   "metadata": {},
   "outputs": [],
   "source": [
    "#export\n",
    "class LinearMNL(nn.Module):\n",
    "    \n",
    "    def __init__(self, in_dim=4, out_dim=5, bias=False):\n",
    "        super().__init__()\n",
    "        store_attr()\n",
    "        self.linear = nn.Linear(in_dim, out_dim, bias=bias)\n",
    "        self.availability = Availability(out_dim)\n",
    "        \n",
    "    def forward(self, x, av):\n",
    "        return self.availability(self.linear(x), av)"
   ]
  },
  {
   "cell_type": "code",
   "execution_count": null,
   "metadata": {},
   "outputs": [
    {
     "data": {
      "text/plain": [
       "torch.Size([10, 3])"
      ]
     },
     "execution_count": null,
     "metadata": {},
     "output_type": "execute_result"
    }
   ],
   "source": [
    "model = LinearMNL(4,3)\n",
    "x = torch.rand(10,4)\n",
    "\n",
    "model(x, torch.tensor([1,1,1])).shape"
   ]
  },
  {
   "cell_type": "code",
   "execution_count": null,
   "metadata": {},
   "outputs": [],
   "source": [
    "loss_func = torch.nn.CrossEntropyLoss()"
   ]
  },
  {
   "cell_type": "code",
   "execution_count": null,
   "metadata": {},
   "outputs": [],
   "source": [
    "#export\n",
    "class DataLoaders:\n",
    "    \"\"\"\n",
    "    A class to store dataloaders (train/valid/test....)\"\"\"\n",
    "    def __init__(self, train_dl, valid_dl=None):\n",
    "        store_attr()\n",
    "        \n",
    "    def one_batch(self, dl=None):\n",
    "        dl = ifnone(dl, self.train_dl)\n",
    "        return next(iter(dl))\n",
    "    \n",
    "    @delegates(DataLoader, but='batch_size')\n",
    "    @classmethod\n",
    "    def from_datasets(cls, train_ds, valid_ds=None, batch_size=1, **kwargs):\n",
    "        train_dl = DataLoader(train_ds, batch_size=batch_size, **kwargs)\n",
    "        if valid_ds is not None:\n",
    "            valid_dl = DataLoader(valid_ds, batch_size=2*batch_size, **kwargs)\n",
    "        else:\n",
    "            valid_dl = None\n",
    "        return cls(train_dl, valid_dl)\n",
    "    \n",
    "    @delegates(DataLoader, but='batch_size')\n",
    "    @classmethod\n",
    "    def from_Xy(cls, X, y, available_choices, pct=None, batch_size=1, **kwargs):\n",
    "        if pct is not None:\n",
    "            train_tensors, valid_tensors = train_valid_split(X, y, available_choices, pct=pct)\n",
    "        else:\n",
    "            train_tensors = X, y, available_choices\n",
    "            valid_tensors = None\n",
    "        train_ds = TensorDataset(*train_tensors)\n",
    "        if valid_tensors is not None:\n",
    "            valid_ds = TensorDataset(*train_tensors)\n",
    "        else:\n",
    "            valid_ds = None\n",
    "        return cls.from_datasets(train_ds, valid_ds, batch_size)"
   ]
  },
  {
   "cell_type": "code",
   "execution_count": null,
   "metadata": {},
   "outputs": [],
   "source": [
    "dls = DataLoaders.from_Xy(X, y, available_choices, pct=0.2, batch_size=8)"
   ]
  },
  {
   "cell_type": "code",
   "execution_count": null,
   "metadata": {},
   "outputs": [],
   "source": [
    "#export\n",
    "class EarlyStopping():\n",
    "    \"\"\"\n",
    "    Early stopping to stop the training when the loss does not improve after\n",
    "    certain epochs.\n",
    "    \"\"\"\n",
    "    def __init__(self, patience=2, min_delta=0.001):\n",
    "        \"\"\"\n",
    "        :param patience: how many epochs to wait before stopping when loss is\n",
    "               not improving\n",
    "        :param min_delta: minimum difference between new loss and old loss for\n",
    "               new loss to be considered as an improvement\n",
    "        \"\"\"\n",
    "        self.patience = patience\n",
    "        self.min_delta = min_delta\n",
    "        self.counter = 0\n",
    "        self.best_loss = None\n",
    "        self.early_stop = False\n",
    "        \n",
    "    def __call__(self, val_loss):\n",
    "        if self.best_loss == None:\n",
    "            self.best_loss = val_loss\n",
    "        elif self.best_loss - val_loss > self.min_delta:\n",
    "            self.best_loss = val_loss\n",
    "        elif self.best_loss - val_loss < self.min_delta:\n",
    "            self.counter += 1\n",
    "            print(f\"INFO: Early stopping counter {self.counter} of {self.patience}\")\n",
    "            if self.counter >= self.patience:\n",
    "                print('INFO: Early stopping')\n",
    "                self.early_stop = True"
   ]
  },
  {
   "cell_type": "code",
   "execution_count": null,
   "metadata": {},
   "outputs": [],
   "source": [
    "#export\n",
    "class Learner:\n",
    "    \"A wrapper around dls, model and optimizer\"\n",
    "    def __init__(self, dls, model, loss_func=torch.nn.CrossEntropyLoss()):\n",
    "        store_attr()\n",
    "        \n",
    "\n",
    "    def train_one_epoch(self):\n",
    "        accum_loss = 0.\n",
    "        for batch, (x, y, av) in enumerate(self.dls.train_dl):\n",
    "            pred = self.model(x, av)  # 1\n",
    "            loss = self.loss_func(pred, y)\n",
    "\n",
    "            #backprop\n",
    "            self.optimizer.zero_grad()\n",
    "            loss.backward()\n",
    "            self.optimizer.step()\n",
    "            accum_loss += loss.item()\n",
    "        return accum_loss\n",
    "    \n",
    "    def validate(self, dl=None):\n",
    "        dl = ifnone(dl, self.dls.valid_dl)\n",
    "        if (dl is None):\n",
    "            dl = self.dls.train_dl\n",
    "        val_loss, accu = 0, 0\n",
    "        with torch.no_grad():\n",
    "            for batch, (x, y, av) in enumerate(dl):\n",
    "                pred = self.model(x, av)\n",
    "                val_loss += self.loss_func(pred, y).item()\n",
    "                accu += (pred.argmax(1) == y).type(torch.float).sum().item()\n",
    "        return val_loss, accu / len(dl.dataset)\n",
    "    \n",
    "    def fit(self, n_epochs=10, lr=0.01, wd=0.01):\n",
    "        \n",
    "        self.optimizer = torch.optim.SGD(\n",
    "            self.model.parameters(), \n",
    "            lr=lr, \n",
    "            weight_decay=wd\n",
    "        )\n",
    "        \n",
    "        early_stopping = EarlyStopping()\n",
    "        \n",
    "        scheduler = ReduceLROnPlateau(self.optimizer, 'min', patience=2, threshold=0.01, verbose=True)\n",
    "        \n",
    "        for epoch in progress_bar(range_of(n_epochs), leave=False):\n",
    "            loss = self.train_one_epoch()\n",
    "            val_loss, accuracy = self.validate()\n",
    "            scheduler.step(val_loss)\n",
    "            early_stopping(val_loss)\n",
    "            if early_stopping.early_stop:\n",
    "                break\n",
    "            print(f'epoch = {epoch:3.0f}, train_loss = {loss:.3f}, val_loss = {val_loss:.3f}, accuracy = {accuracy:.2f}')"
   ]
  },
  {
   "cell_type": "code",
   "execution_count": null,
   "metadata": {},
   "outputs": [],
   "source": [
    "model = LinearMNL(4,3)\n",
    "learn = Learner(dls, model, loss_func)"
   ]
  },
  {
   "cell_type": "code",
   "execution_count": null,
   "metadata": {},
   "outputs": [
    {
     "data": {
      "text/html": [
       "\n",
       "    <div>\n",
       "        <style>\n",
       "            /* Turns off some styling */\n",
       "            progress {\n",
       "                /* gets rid of default border in Firefox and Opera. */\n",
       "                border: none;\n",
       "                /* Needs to be in here for Safari polyfill so background images work as expected. */\n",
       "                background-size: auto;\n",
       "            }\n",
       "            .progress-bar-interrupted, .progress-bar-interrupted::-webkit-progress-bar {\n",
       "                background: #F44336;\n",
       "            }\n",
       "        </style>\n",
       "      <progress value='39' class='' max='100' style='width:300px; height:20px; vertical-align: middle;'></progress>\n",
       "      39.00% [39/100 00:00<00:00]\n",
       "    </div>\n",
       "    "
      ],
      "text/plain": [
       "<IPython.core.display.HTML object>"
      ]
     },
     "metadata": {},
     "output_type": "display_data"
    },
    {
     "name": "stdout",
     "output_type": "stream",
     "text": [
      "epoch =   0, train_loss = 18.694, val_loss = 6.437, accuracy = 0.66\n",
      "epoch =   1, train_loss = 10.229, val_loss = 5.052, accuracy = 0.66\n",
      "epoch =   2, train_loss = 8.974, val_loss = 4.628, accuracy = 0.66\n",
      "epoch =   3, train_loss = 8.383, val_loss = 4.289, accuracy = 0.66\n",
      "epoch =   4, train_loss = 7.884, val_loss = 3.944, accuracy = 0.66\n",
      "epoch =   5, train_loss = 7.401, val_loss = 3.618, accuracy = 0.67\n",
      "epoch =   6, train_loss = 6.941, val_loss = 3.328, accuracy = 0.68\n",
      "epoch =   7, train_loss = 6.527, val_loss = 3.079, accuracy = 0.77\n",
      "epoch =   8, train_loss = 6.179, val_loss = 2.869, accuracy = 0.80\n",
      "epoch =   9, train_loss = 5.905, val_loss = 2.694, accuracy = 0.84\n",
      "epoch =  10, train_loss = 5.693, val_loss = 2.546, accuracy = 0.88\n",
      "epoch =  11, train_loss = 5.524, val_loss = 2.422, accuracy = 0.90\n",
      "epoch =  12, train_loss = 5.383, val_loss = 2.316, accuracy = 0.92\n",
      "epoch =  13, train_loss = 5.258, val_loss = 2.226, accuracy = 0.94\n",
      "epoch =  14, train_loss = 5.142, val_loss = 2.148, accuracy = 0.97\n",
      "epoch =  15, train_loss = 5.032, val_loss = 2.082, accuracy = 0.97\n",
      "epoch =  16, train_loss = 4.925, val_loss = 2.025, accuracy = 0.97\n",
      "epoch =  17, train_loss = 4.821, val_loss = 1.975, accuracy = 0.97\n",
      "epoch =  18, train_loss = 4.719, val_loss = 1.932, accuracy = 0.97\n",
      "epoch =  19, train_loss = 4.620, val_loss = 1.894, accuracy = 0.97\n",
      "epoch =  20, train_loss = 4.524, val_loss = 1.861, accuracy = 0.96\n",
      "epoch =  21, train_loss = 4.431, val_loss = 1.831, accuracy = 0.97\n",
      "epoch =  22, train_loss = 4.343, val_loss = 1.805, accuracy = 0.97\n",
      "epoch =  23, train_loss = 4.258, val_loss = 1.781, accuracy = 0.97\n",
      "epoch =  24, train_loss = 4.178, val_loss = 1.759, accuracy = 0.97\n",
      "epoch =  25, train_loss = 4.102, val_loss = 1.740, accuracy = 0.97\n",
      "epoch =  26, train_loss = 4.031, val_loss = 1.721, accuracy = 0.97\n",
      "epoch =  27, train_loss = 3.964, val_loss = 1.705, accuracy = 0.97\n",
      "epoch =  28, train_loss = 3.901, val_loss = 1.689, accuracy = 0.97\n",
      "epoch =  29, train_loss = 3.842, val_loss = 1.675, accuracy = 0.97\n",
      "epoch =  30, train_loss = 3.788, val_loss = 1.662, accuracy = 0.97\n",
      "epoch =  31, train_loss = 3.737, val_loss = 1.649, accuracy = 0.97\n",
      "epoch =  32, train_loss = 3.689, val_loss = 1.638, accuracy = 0.97\n",
      "epoch =  33, train_loss = 3.644, val_loss = 1.627, accuracy = 0.97\n",
      "epoch =  34, train_loss = 3.603, val_loss = 1.617, accuracy = 0.97\n",
      "epoch =  35, train_loss = 3.564, val_loss = 1.607, accuracy = 0.97\n",
      "epoch =  36, train_loss = 3.528, val_loss = 1.598, accuracy = 0.97\n",
      "epoch =  37, train_loss = 3.494, val_loss = 1.589, accuracy = 0.97\n",
      "epoch =  38, train_loss = 3.462, val_loss = 1.581, accuracy = 0.97\n",
      "epoch =  39, train_loss = 3.433, val_loss = 1.574, accuracy = 0.97\n",
      "epoch =  40, train_loss = 3.405, val_loss = 1.567, accuracy = 0.97\n",
      "epoch =  41, train_loss = 3.379, val_loss = 1.560, accuracy = 0.97\n",
      "epoch =  42, train_loss = 3.354, val_loss = 1.553, accuracy = 0.97\n",
      "epoch =  43, train_loss = 3.331, val_loss = 1.547, accuracy = 0.97\n",
      "epoch =  44, train_loss = 3.309, val_loss = 1.541, accuracy = 0.97\n",
      "epoch =  45, train_loss = 3.289, val_loss = 1.536, accuracy = 0.97\n",
      "epoch =  46, train_loss = 3.270, val_loss = 1.531, accuracy = 0.97\n",
      "epoch =  47, train_loss = 3.252, val_loss = 1.526, accuracy = 0.97\n",
      "epoch =  48, train_loss = 3.234, val_loss = 1.521, accuracy = 0.97\n",
      "epoch =  49, train_loss = 3.218, val_loss = 1.517, accuracy = 0.97\n",
      "Epoch    51: reducing learning rate of group 0 to 1.0000e-02.\n",
      "epoch =  50, train_loss = 3.203, val_loss = 1.512, accuracy = 0.97\n",
      "epoch =  51, train_loss = 2.896, val_loss = 1.477, accuracy = 0.97\n",
      "epoch =  52, train_loss = 2.869, val_loss = 1.475, accuracy = 0.97\n",
      "INFO: Early stopping counter 1 of 2\n",
      "epoch =  53, train_loss = 2.866, val_loss = 1.474, accuracy = 0.97\n",
      "Epoch    55: reducing learning rate of group 0 to 1.0000e-03.\n",
      "INFO: Early stopping counter 2 of 2\n",
      "INFO: Early stopping\n"
     ]
    }
   ],
   "source": [
    "learn.fit(100, lr=0.1)"
   ]
  },
  {
   "cell_type": "markdown",
   "metadata": {},
   "source": [
    "## Export"
   ]
  },
  {
   "cell_type": "code",
   "execution_count": null,
   "metadata": {},
   "outputs": [
    {
     "name": "stdout",
     "output_type": "stream",
     "text": [
      "Converted 00_core.ipynb.\n",
      "Converted index.ipynb.\n",
      "Converted swissmetro.ipynb.\n"
     ]
    }
   ],
   "source": [
    "# hide\n",
    "from nbdev.export import *\n",
    "notebook2script()"
   ]
  }
 ],
 "metadata": {
  "kernelspec": {
   "display_name": "Python 3",
   "language": "python",
   "name": "python3"
  }
 },
 "nbformat": 4,
 "nbformat_minor": 4
}
