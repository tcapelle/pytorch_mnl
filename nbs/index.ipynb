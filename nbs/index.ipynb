{
 "cells": [
  {
   "cell_type": "markdown",
   "metadata": {},
   "source": [
    "# A simple pytorch based MNL lib\n",
    "\n",
    "> Fit your Multinomial Logistic Regression with Pytorch"
   ]
  },
  {
   "cell_type": "markdown",
   "metadata": {},
   "source": [
    "## Install"
   ]
  },
  {
   "cell_type": "markdown",
   "metadata": {},
   "source": [
    "`pip install pytorch_mnl`"
   ]
  },
  {
   "cell_type": "markdown",
   "metadata": {},
   "source": [
    "## How to use"
   ]
  },
  {
   "cell_type": "markdown",
   "metadata": {},
   "source": [
    "import the lib"
   ]
  },
  {
   "cell_type": "code",
   "execution_count": null,
   "metadata": {},
   "outputs": [],
   "source": [
    "import pandas as pd\n",
    "from pytorch_mnl.core import *"
   ]
  },
  {
   "cell_type": "markdown",
   "metadata": {},
   "source": [
    "load data"
   ]
  },
  {
   "cell_type": "code",
   "execution_count": null,
   "metadata": {},
   "outputs": [],
   "source": [
    "data = pd.read_csv(\"./data/Iris.csv\").drop(\"Id\", axis=1)"
   ]
  },
  {
   "cell_type": "markdown",
   "metadata": {},
   "source": [
    "choose x, y cols:"
   ]
  },
  {
   "cell_type": "code",
   "execution_count": null,
   "metadata": {},
   "outputs": [],
   "source": [
    "x_cols=['SepalLengthCm', 'SepalWidthCm', 'PetalLengthCm', 'PetalWidthCm']\n",
    "target_col = 'Species'"
   ]
  },
  {
   "cell_type": "markdown",
   "metadata": {},
   "source": [
    "the number of classes to predict:"
   ]
  },
  {
   "cell_type": "code",
   "execution_count": null,
   "metadata": {},
   "outputs": [
    {
     "data": {
      "text/plain": [
       "3"
      ]
     },
     "execution_count": null,
     "metadata": {},
     "output_type": "execute_result"
    }
   ],
   "source": [
    "n_targets = len(data[target_col].unique())\n",
    "n_targets"
   ]
  },
  {
   "cell_type": "code",
   "execution_count": null,
   "metadata": {},
   "outputs": [],
   "source": [
    "X, y = prepare_data(data, x_cols=x_cols, target_col=target_col)"
   ]
  },
  {
   "cell_type": "markdown",
   "metadata": {},
   "source": [
    "we get pytorch tensors ready to use!"
   ]
  },
  {
   "cell_type": "code",
   "execution_count": null,
   "metadata": {},
   "outputs": [
    {
     "data": {
      "text/plain": [
       "(torch.Tensor, torch.Tensor)"
      ]
     },
     "execution_count": null,
     "metadata": {},
     "output_type": "execute_result"
    }
   ],
   "source": [
    "type(X), type(y)"
   ]
  },
  {
   "cell_type": "markdown",
   "metadata": {},
   "source": [
    "let's split in train/valid choosing a percenage as holdout, and choose a batch size to fit our model"
   ]
  },
  {
   "cell_type": "code",
   "execution_count": null,
   "metadata": {},
   "outputs": [],
   "source": [
    "dls = DataLoaders.from_Xy(X, y, pct=0.2, batch_size=8)"
   ]
  },
  {
   "cell_type": "markdown",
   "metadata": {},
   "source": [
    "as our model has 4 variables, we will fit a 4 MNL, with 3 targets."
   ]
  },
  {
   "cell_type": "code",
   "execution_count": null,
   "metadata": {},
   "outputs": [],
   "source": [
    "model = LinearMNL(len(x_cols), n_targets)"
   ]
  },
  {
   "cell_type": "code",
   "execution_count": null,
   "metadata": {},
   "outputs": [],
   "source": [
    "learn = Learner(dls, model)"
   ]
  },
  {
   "cell_type": "code",
   "execution_count": null,
   "metadata": {},
   "outputs": [
    {
     "data": {
      "text/html": [],
      "text/plain": [
       "<IPython.core.display.HTML object>"
      ]
     },
     "metadata": {},
     "output_type": "display_data"
    },
    {
     "name": "stdout",
     "output_type": "stream",
     "text": [
      "epoch =   0, val_loss = 2.072, accuracy = 0.53\n",
      "epoch =   1, val_loss = 1.908, accuracy = 0.53\n",
      "epoch =   2, val_loss = 1.770, accuracy = 0.80\n",
      "epoch =   3, val_loss = 1.657, accuracy = 0.80\n",
      "epoch =   4, val_loss = 1.564, accuracy = 0.80\n",
      "epoch =   5, val_loss = 1.487, accuracy = 0.80\n",
      "epoch =   6, val_loss = 1.422, accuracy = 0.80\n",
      "epoch =   7, val_loss = 1.368, accuracy = 0.80\n",
      "epoch =   8, val_loss = 1.321, accuracy = 0.80\n",
      "epoch =   9, val_loss = 1.282, accuracy = 0.83\n",
      "epoch =  10, val_loss = 1.247, accuracy = 0.83\n",
      "epoch =  11, val_loss = 1.217, accuracy = 0.83\n",
      "epoch =  12, val_loss = 1.190, accuracy = 0.83\n",
      "epoch =  13, val_loss = 1.166, accuracy = 0.83\n",
      "epoch =  14, val_loss = 1.144, accuracy = 0.87\n",
      "epoch =  15, val_loss = 1.125, accuracy = 0.87\n",
      "epoch =  16, val_loss = 1.107, accuracy = 0.90\n",
      "epoch =  17, val_loss = 1.091, accuracy = 0.90\n",
      "epoch =  18, val_loss = 1.076, accuracy = 0.90\n",
      "epoch =  19, val_loss = 1.063, accuracy = 0.90\n",
      "epoch =  20, val_loss = 1.050, accuracy = 0.90\n",
      "epoch =  21, val_loss = 1.038, accuracy = 0.90\n",
      "epoch =  22, val_loss = 1.027, accuracy = 0.90\n",
      "epoch =  23, val_loss = 1.016, accuracy = 0.90\n",
      "epoch =  24, val_loss = 1.007, accuracy = 0.90\n"
     ]
    }
   ],
   "source": [
    "learn.fit(25)"
   ]
  }
 ],
 "metadata": {
  "kernelspec": {
   "display_name": "Python 3",
   "language": "python",
   "name": "python3"
  }
 },
 "nbformat": 4,
 "nbformat_minor": 4
}
