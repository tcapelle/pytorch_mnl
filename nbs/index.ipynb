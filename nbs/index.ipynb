{
 "cells": [
  {
   "cell_type": "markdown",
   "metadata": {},
   "source": [
    "# A simple pytorch based MNL lib\n",
    "\n",
    "> Fit your Multinomial Logistic Regression with Pytorch"
   ]
  },
  {
   "cell_type": "markdown",
   "metadata": {},
   "source": [
    "## Install"
   ]
  },
  {
   "cell_type": "markdown",
   "metadata": {},
   "source": [
    "`pip install pytorch_mnl`"
   ]
  },
  {
   "cell_type": "markdown",
   "metadata": {},
   "source": [
    "## How to use"
   ]
  },
  {
   "cell_type": "markdown",
   "metadata": {},
   "source": [
    "import the lib"
   ]
  },
  {
   "cell_type": "code",
   "execution_count": null,
   "metadata": {},
   "outputs": [],
   "source": [
    "import pandas as pd\n",
    "from pytorch_mnl.core import *"
   ]
  },
  {
   "cell_type": "markdown",
   "metadata": {},
   "source": [
    "load data"
   ]
  },
  {
   "cell_type": "code",
   "execution_count": null,
   "metadata": {},
   "outputs": [],
   "source": [
    "data = pd.read_csv(\"./data/Iris.csv\").drop(\"Id\", axis=1)"
   ]
  },
  {
   "cell_type": "markdown",
   "metadata": {},
   "source": [
    "choose x, y cols:"
   ]
  },
  {
   "cell_type": "code",
   "execution_count": null,
   "metadata": {},
   "outputs": [],
   "source": [
    "x_cols=['SepalLengthCm', 'SepalWidthCm', 'PetalLengthCm', 'PetalWidthCm']\n",
    "target_col = 'Species'"
   ]
  },
  {
   "cell_type": "markdown",
   "metadata": {},
   "source": [
    "the number of classes to predict:"
   ]
  },
  {
   "cell_type": "code",
   "execution_count": null,
   "metadata": {},
   "outputs": [
    {
     "data": {
      "text/plain": [
       "3"
      ]
     },
     "execution_count": null,
     "metadata": {},
     "output_type": "execute_result"
    }
   ],
   "source": [
    "n_targets = len(data[target_col].unique())\n",
    "n_targets"
   ]
  },
  {
   "cell_type": "code",
   "execution_count": null,
   "metadata": {},
   "outputs": [],
   "source": [
    "X, y = prepare_data(data, x_cols=x_cols, target_col=target_col)"
   ]
  },
  {
   "cell_type": "markdown",
   "metadata": {},
   "source": [
    "we get pytorch tensors ready to use!"
   ]
  },
  {
   "cell_type": "code",
   "execution_count": null,
   "metadata": {},
   "outputs": [
    {
     "data": {
      "text/plain": [
       "(torch.Tensor, torch.Tensor)"
      ]
     },
     "execution_count": null,
     "metadata": {},
     "output_type": "execute_result"
    }
   ],
   "source": [
    "type(X), type(y)"
   ]
  },
  {
   "cell_type": "markdown",
   "metadata": {},
   "source": [
    "let's split in train/valid choosing a percenage as holdout, and choose a batch size to fit our model"
   ]
  },
  {
   "cell_type": "code",
   "execution_count": null,
   "metadata": {},
   "outputs": [],
   "source": [
    "dls = DataLoaders.from_Xy(X, y, pct=0.2, batch_size=8)"
   ]
  },
  {
   "cell_type": "markdown",
   "metadata": {},
   "source": [
    "as our model has 4 variables, we will fit a 4 MNL, with 3 targets."
   ]
  },
  {
   "cell_type": "code",
   "execution_count": null,
   "metadata": {},
   "outputs": [],
   "source": [
    "model = LinearMNL(len(x_cols), n_targets)"
   ]
  },
  {
   "cell_type": "code",
   "execution_count": null,
   "metadata": {},
   "outputs": [],
   "source": [
    "learn = Learner(dls, model)"
   ]
  },
  {
   "cell_type": "code",
   "execution_count": null,
   "metadata": {},
   "outputs": [
    {
     "data": {
      "text/html": [
       "\n",
       "    <div>\n",
       "        <style>\n",
       "            /* Turns off some styling */\n",
       "            progress {\n",
       "                /* gets rid of default border in Firefox and Opera. */\n",
       "                border: none;\n",
       "                /* Needs to be in here for Safari polyfill so background images work as expected. */\n",
       "                background-size: auto;\n",
       "            }\n",
       "            .progress-bar-interrupted, .progress-bar-interrupted::-webkit-progress-bar {\n",
       "                background: #F44336;\n",
       "            }\n",
       "        </style>\n",
       "      <progress value='25' class='' max='25' style='width:300px; height:20px; vertical-align: middle;'></progress>\n",
       "      100.00% [25/25 00:00<00:00]\n",
       "    </div>\n",
       "    "
      ],
      "text/plain": [
       "<IPython.core.display.HTML object>"
      ]
     },
     "metadata": {},
     "output_type": "display_data"
    },
    {
     "name": "stdout",
     "output_type": "stream",
     "text": [
      "epoch =   0, val_loss = 2.411, accuracy = 0.17\n",
      "epoch =   1, val_loss = 2.223, accuracy = 0.27\n",
      "epoch =   2, val_loss = 2.031, accuracy = 0.50\n",
      "epoch =   3, val_loss = 1.873, accuracy = 0.63\n",
      "epoch =   4, val_loss = 1.743, accuracy = 0.70\n",
      "epoch =   5, val_loss = 1.636, accuracy = 0.70\n",
      "epoch =   6, val_loss = 1.546, accuracy = 0.73\n",
      "epoch =   7, val_loss = 1.471, accuracy = 0.77\n",
      "epoch =   8, val_loss = 1.408, accuracy = 0.77\n",
      "epoch =   9, val_loss = 1.353, accuracy = 0.77\n",
      "epoch =  10, val_loss = 1.306, accuracy = 0.80\n",
      "epoch =  11, val_loss = 1.264, accuracy = 0.83\n",
      "epoch =  12, val_loss = 1.227, accuracy = 0.83\n",
      "epoch =  13, val_loss = 1.195, accuracy = 0.83\n",
      "epoch =  14, val_loss = 1.165, accuracy = 0.87\n",
      "epoch =  15, val_loss = 1.139, accuracy = 0.87\n",
      "epoch =  16, val_loss = 1.115, accuracy = 0.87\n",
      "epoch =  17, val_loss = 1.093, accuracy = 0.87\n",
      "epoch =  18, val_loss = 1.072, accuracy = 0.87\n",
      "epoch =  19, val_loss = 1.054, accuracy = 0.93\n",
      "epoch =  20, val_loss = 1.036, accuracy = 0.97\n",
      "epoch =  21, val_loss = 1.020, accuracy = 0.97\n",
      "epoch =  22, val_loss = 1.005, accuracy = 0.97\n",
      "epoch =  23, val_loss = 0.991, accuracy = 0.97\n",
      "epoch =  24, val_loss = 0.977, accuracy = 0.97\n"
     ]
    }
   ],
   "source": [
    "learn.fit(25)"
   ]
  }
 ],
 "metadata": {
  "kernelspec": {
   "display_name": "Python 3",
   "language": "python",
   "name": "python3"
  }
 },
 "nbformat": 4,
 "nbformat_minor": 4
}
