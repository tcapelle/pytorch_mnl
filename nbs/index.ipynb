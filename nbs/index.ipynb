{
 "cells": [
  {
   "cell_type": "markdown",
   "metadata": {},
   "source": [
    "# A simple pytorch based MNL lib\n",
    "\n",
    "> Fit your Multinomial Logistic Regression with Pytorch"
   ]
  },
  {
   "cell_type": "markdown",
   "metadata": {},
   "source": [
    "## Install"
   ]
  },
  {
   "cell_type": "markdown",
   "metadata": {},
   "source": [
    "`pip install pytorch_mnl`"
   ]
  },
  {
   "cell_type": "markdown",
   "metadata": {},
   "source": [
    "## How to use"
   ]
  },
  {
   "cell_type": "markdown",
   "metadata": {},
   "source": [
    "import the lib"
   ]
  },
  {
   "cell_type": "code",
   "execution_count": null,
   "metadata": {},
   "outputs": [],
   "source": [
    "import pandas as pd\n",
    "from pytorch_mnl.core import *"
   ]
  },
  {
   "cell_type": "markdown",
   "metadata": {},
   "source": [
    "load data"
   ]
  },
  {
   "cell_type": "code",
   "execution_count": null,
   "metadata": {},
   "outputs": [],
   "source": [
    "data = pd.read_csv(\"./data/Iris.csv\").drop(\"Id\", axis=1)"
   ]
  },
  {
   "cell_type": "markdown",
   "metadata": {},
   "source": [
    "choose x, y cols:"
   ]
  },
  {
   "cell_type": "code",
   "execution_count": null,
   "metadata": {},
   "outputs": [],
   "source": [
    "x_cols=['SepalLengthCm', 'SepalWidthCm', 'PetalLengthCm', 'PetalWidthCm']\n",
    "target_col = 'Species'"
   ]
  },
  {
   "cell_type": "markdown",
   "metadata": {},
   "source": [
    "the number of classes to predict:"
   ]
  },
  {
   "cell_type": "code",
   "execution_count": null,
   "metadata": {},
   "outputs": [
    {
     "data": {
      "text/plain": [
       "3"
      ]
     },
     "execution_count": null,
     "metadata": {},
     "output_type": "execute_result"
    }
   ],
   "source": [
    "n_targets = len(data[target_col].unique())\n",
    "n_targets"
   ]
  },
  {
   "cell_type": "code",
   "execution_count": null,
   "metadata": {},
   "outputs": [
    {
     "name": "stdout",
     "output_type": "stream",
     "text": [
      "{'Iris-setosa': 0, 'Iris-versicolor': 1, 'Iris-virginica': 2}\n"
     ]
    }
   ],
   "source": [
    "X, y, av = prepare_data(data, x_cols=x_cols, target_col=target_col)"
   ]
  },
  {
   "cell_type": "markdown",
   "metadata": {},
   "source": [
    "we get pytorch tensors ready to use!"
   ]
  },
  {
   "cell_type": "code",
   "execution_count": null,
   "metadata": {},
   "outputs": [
    {
     "data": {
      "text/plain": [
       "(torch.Tensor, torch.Tensor)"
      ]
     },
     "execution_count": null,
     "metadata": {},
     "output_type": "execute_result"
    }
   ],
   "source": [
    "type(X), type(y)"
   ]
  },
  {
   "cell_type": "markdown",
   "metadata": {},
   "source": [
    "let's split in train/valid choosing a percenage as holdout, and choose a batch size to fit our model"
   ]
  },
  {
   "cell_type": "code",
   "execution_count": null,
   "metadata": {},
   "outputs": [],
   "source": [
    "dls = DataLoaders.from_Xy(X, y, av, pct=0.2, batch_size=8)"
   ]
  },
  {
   "cell_type": "markdown",
   "metadata": {},
   "source": [
    "as our model has 4 variables, we will fit a 4 MNL, with 3 targets."
   ]
  },
  {
   "cell_type": "code",
   "execution_count": null,
   "metadata": {},
   "outputs": [],
   "source": [
    "model = LinearMNL(len(x_cols), n_targets)"
   ]
  },
  {
   "cell_type": "code",
   "execution_count": null,
   "metadata": {},
   "outputs": [],
   "source": [
    "learn = Learner(dls, model)"
   ]
  },
  {
   "cell_type": "code",
   "execution_count": null,
   "metadata": {},
   "outputs": [
    {
     "data": {
      "text/html": [],
      "text/plain": [
       "<IPython.core.display.HTML object>"
      ]
     },
     "metadata": {},
     "output_type": "display_data"
    },
    {
     "name": "stdout",
     "output_type": "stream",
     "text": [
      "epoch =   0, train_loss = 42.186, val_loss = 13.372, accuracy = 0.19\n",
      "epoch =   1, train_loss = 20.678, val_loss = 8.456, accuracy = 0.14\n",
      "epoch =   2, train_loss = 15.091, val_loss = 7.411, accuracy = 0.43\n",
      "epoch =   3, train_loss = 13.755, val_loss = 6.893, accuracy = 0.68\n",
      "epoch =   4, train_loss = 12.857, val_loss = 6.482, accuracy = 0.68\n",
      "epoch =   5, train_loss = 12.131, val_loss = 6.147, accuracy = 0.68\n",
      "epoch =   6, train_loss = 11.534, val_loss = 5.869, accuracy = 0.68\n",
      "epoch =   7, train_loss = 11.036, val_loss = 5.635, accuracy = 0.68\n",
      "epoch =   8, train_loss = 10.614, val_loss = 5.435, accuracy = 0.68\n",
      "epoch =   9, train_loss = 10.253, val_loss = 5.263, accuracy = 0.68\n",
      "epoch =  10, train_loss = 9.940, val_loss = 5.113, accuracy = 0.68\n",
      "epoch =  11, train_loss = 9.665, val_loss = 4.980, accuracy = 0.69\n",
      "epoch =  12, train_loss = 9.422, val_loss = 4.862, accuracy = 0.69\n",
      "epoch =  13, train_loss = 9.205, val_loss = 4.755, accuracy = 0.70\n",
      "epoch =  14, train_loss = 9.009, val_loss = 4.659, accuracy = 0.72\n",
      "epoch =  15, train_loss = 8.831, val_loss = 4.572, accuracy = 0.73\n",
      "epoch =  16, train_loss = 8.669, val_loss = 4.492, accuracy = 0.78\n",
      "epoch =  17, train_loss = 8.521, val_loss = 4.418, accuracy = 0.81\n",
      "epoch =  18, train_loss = 8.383, val_loss = 4.349, accuracy = 0.86\n",
      "epoch =  19, train_loss = 8.256, val_loss = 4.285, accuracy = 0.87\n",
      "epoch =  20, train_loss = 8.137, val_loss = 4.226, accuracy = 0.88\n",
      "epoch =  21, train_loss = 8.026, val_loss = 4.170, accuracy = 0.88\n",
      "epoch =  22, train_loss = 7.921, val_loss = 4.117, accuracy = 0.91\n",
      "epoch =  23, train_loss = 7.823, val_loss = 4.068, accuracy = 0.91\n",
      "epoch =  24, train_loss = 7.730, val_loss = 4.021, accuracy = 0.92\n"
     ]
    }
   ],
   "source": [
    "learn.fit(25)"
   ]
  }
 ],
 "metadata": {
  "kernelspec": {
   "display_name": "Python 3",
   "language": "python",
   "name": "python3"
  }
 },
 "nbformat": 4,
 "nbformat_minor": 4
}
